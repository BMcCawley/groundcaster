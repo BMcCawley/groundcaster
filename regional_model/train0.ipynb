{
 "cells": [
  {
   "cell_type": "markdown",
   "metadata": {},
   "source": [
    "# Train regional groundwater model\n",
    "\n",
    "This notebook trains a regional LSTM model on borehole data. It does not perform validation or inference.\n",
    "\n",
    "**Tasks**\n",
    "- Load in the data\n",
    "- Split data into training, testing and validation with finetuning:\n",
    "    - First 10% of data from 50 boreholes for testing\n",
    "    - Final 90% of data from 50 boreholes for training\n",
    "    - First 20% of data from unseen boreholes for finetuning\n",
    "    - Final 80% of data from unseen boreholes for validation\n",
    "- Instantiate, fit and transform data with scalers:\n",
    "    - Instantiate a scaler for each borehole\n",
    "    - Fit StandardScalers using the training period of each borehole (precip, PET and GWL)\n",
    "    - Transform both the training and testing data using scalers\n",
    "- Reshape dynamic and static data into sequences\n",
    "- Create datasets and dataloaders\n",
    "- Train model\n",
    "\n",
    "Train model on 90% of data from 50 boreholes. Give the input size of the embedding layer as 54, to allow for the model to be finetuned on the unseen boreholes."
   ]
  },
  {
   "cell_type": "code",
   "execution_count": 70,
   "metadata": {},
   "outputs": [],
   "source": [
    "import numpy as np\n",
    "import pandas as pd\n",
    "from pathlib import Path\n",
    "import torch\n",
    "import torch.nn as nn\n",
    "from torch.utils.data import Dataset, DataLoader\n",
    "from torch.optim.lr_scheduler import ReduceLROnPlateau\n",
    "from sklearn.preprocessing import StandardScaler\n",
    "import plotly.express as px\n",
    "import plotly.graph_objects as go"
   ]
  },
  {
   "cell_type": "code",
   "execution_count": 71,
   "metadata": {},
   "outputs": [
    {
     "data": {
      "text/plain": [
       "device(type='cuda')"
      ]
     },
     "execution_count": 71,
     "metadata": {},
     "output_type": "execute_result"
    }
   ],
   "source": [
    "# Define hyperparameters\n",
    "# Number of validation boreholes (not used in training or testing)\n",
    "num_validation = 4\n",
    "# Sequence length also acts similarly to the warm up period in conventional models\n",
    "seq_length = 730\n",
    "# Portion of data for training, from which test proportion is inferred\n",
    "train_split = 0.8\n",
    "# Batch size should be a exponent of base 2\n",
    "batch_size = 512\n",
    "# Hidden size of LSTM\n",
    "hidden_size = 20\n",
    "# Number of stacked layers of LSTM\n",
    "num_layers = 3\n",
    "# Embedding size\n",
    "embedding_size = 16\n",
    "# Initial learning rate\n",
    "lr = 0.0001\n",
    "# Number of epochs\n",
    "epochs = 20\n",
    "# Learning rate scheduler patience\n",
    "patience = 10\n",
    "\n",
    "\n",
    "# Check if GPU is available\n",
    "device = torch.device(\"cuda\" if torch.cuda.is_available() else \"cpu\")\n",
    "device"
   ]
  },
  {
   "cell_type": "code",
   "execution_count": 72,
   "metadata": {},
   "outputs": [],
   "source": [
    "# Function to load data\n",
    "def load_data(file_path: str|Path, prefix: str) -> list[pd.DataFrame]:\n",
    "    \"\"\"\n",
    "    Load and concatenate CSV files from a directory into a DataFrame.\n",
    "\n",
    "    This function reads all CSV files in the specified directory that match the provided prefix, \n",
    "    parses the \"Date\" column into datetime format with day first, and concatenates the data into a single DataFrame.\n",
    "\n",
    "    Args:\n",
    "        file_path (str|Path): The directory path where the CSV files are located.\n",
    "        prefix (str): The prefix of the CSV files to be loaded.\n",
    "\n",
    "    Returns:\n",
    "        pd.DataFrame: The concatenated DataFrame of all matched CSV files.\n",
    "\n",
    "    \"\"\"\n",
    "    return pd.concat(\n",
    "        [\n",
    "            pd.read_csv(p, parse_dates=[\"Date\"], dayfirst=True)\n",
    "            for p in Path(file_path).glob(f\"{prefix}*.csv\")\n",
    "        ]\n",
    "    )"
   ]
  },
  {
   "cell_type": "code",
   "execution_count": 73,
   "metadata": {},
   "outputs": [],
   "source": [
    "# Loop through the data\n",
    "# Add borehole id to one of the dataframes\n",
    "# Count the number of boreholes\n",
    "# Split the data into training and testing"
   ]
  },
  {
   "cell_type": "code",
   "execution_count": 74,
   "metadata": {},
   "outputs": [
    {
     "data": {
      "text/html": [
       "<div>\n",
       "<style scoped>\n",
       "    .dataframe tbody tr th:only-of-type {\n",
       "        vertical-align: middle;\n",
       "    }\n",
       "\n",
       "    .dataframe tbody tr th {\n",
       "        vertical-align: top;\n",
       "    }\n",
       "\n",
       "    .dataframe thead th {\n",
       "        text-align: right;\n",
       "    }\n",
       "</style>\n",
       "<table border=\"1\" class=\"dataframe\">\n",
       "  <thead>\n",
       "    <tr style=\"text-align: right;\">\n",
       "      <th></th>\n",
       "      <th>Borehole</th>\n",
       "      <th>Model</th>\n",
       "      <th>Date</th>\n",
       "      <th>Sim</th>\n",
       "      <th>Obs</th>\n",
       "      <th>bhid</th>\n",
       "      <th>precipwsnow</th>\n",
       "      <th>PET</th>\n",
       "    </tr>\n",
       "  </thead>\n",
       "  <tbody>\n",
       "    <tr>\n",
       "      <th>0</th>\n",
       "      <td>Allington No 2</td>\n",
       "      <td>AquiMod</td>\n",
       "      <td>2006-09-21</td>\n",
       "      <td>72.5336</td>\n",
       "      <td>67.997000</td>\n",
       "      <td>0</td>\n",
       "      <td>0.156802</td>\n",
       "      <td>2.210</td>\n",
       "    </tr>\n",
       "    <tr>\n",
       "      <th>1</th>\n",
       "      <td>Allington No 2</td>\n",
       "      <td>AquiMod</td>\n",
       "      <td>2006-09-22</td>\n",
       "      <td>72.4902</td>\n",
       "      <td>67.933000</td>\n",
       "      <td>0</td>\n",
       "      <td>8.686279</td>\n",
       "      <td>2.210</td>\n",
       "    </tr>\n",
       "    <tr>\n",
       "      <th>2</th>\n",
       "      <td>Allington No 2</td>\n",
       "      <td>AquiMod</td>\n",
       "      <td>2006-09-23</td>\n",
       "      <td>72.4493</td>\n",
       "      <td>67.903000</td>\n",
       "      <td>0</td>\n",
       "      <td>12.740111</td>\n",
       "      <td>2.210</td>\n",
       "    </tr>\n",
       "    <tr>\n",
       "      <th>3</th>\n",
       "      <td>Allington No 2</td>\n",
       "      <td>AquiMod</td>\n",
       "      <td>2006-09-24</td>\n",
       "      <td>72.4086</td>\n",
       "      <td>67.859000</td>\n",
       "      <td>0</td>\n",
       "      <td>0.284288</td>\n",
       "      <td>2.210</td>\n",
       "    </tr>\n",
       "    <tr>\n",
       "      <th>4</th>\n",
       "      <td>Allington No 2</td>\n",
       "      <td>AquiMod</td>\n",
       "      <td>2006-09-25</td>\n",
       "      <td>72.3679</td>\n",
       "      <td>67.754000</td>\n",
       "      <td>0</td>\n",
       "      <td>0.002568</td>\n",
       "      <td>2.210</td>\n",
       "    </tr>\n",
       "    <tr>\n",
       "      <th>...</th>\n",
       "      <td>...</td>\n",
       "      <td>...</td>\n",
       "      <td>...</td>\n",
       "      <td>...</td>\n",
       "      <td>...</td>\n",
       "      <td>...</td>\n",
       "      <td>...</td>\n",
       "      <td>...</td>\n",
       "    </tr>\n",
       "    <tr>\n",
       "      <th>825373</th>\n",
       "      <td>Woodend Farm</td>\n",
       "      <td>AquiMod</td>\n",
       "      <td>2005-02-14</td>\n",
       "      <td>85.1202</td>\n",
       "      <td>86.970968</td>\n",
       "      <td>53</td>\n",
       "      <td>0.002877</td>\n",
       "      <td>0.675</td>\n",
       "    </tr>\n",
       "    <tr>\n",
       "      <th>825374</th>\n",
       "      <td>Woodend Farm</td>\n",
       "      <td>AquiMod</td>\n",
       "      <td>2005-02-15</td>\n",
       "      <td>85.1124</td>\n",
       "      <td>86.983226</td>\n",
       "      <td>53</td>\n",
       "      <td>0.000412</td>\n",
       "      <td>0.675</td>\n",
       "    </tr>\n",
       "    <tr>\n",
       "      <th>825375</th>\n",
       "      <td>Woodend Farm</td>\n",
       "      <td>AquiMod</td>\n",
       "      <td>2005-02-16</td>\n",
       "      <td>85.1042</td>\n",
       "      <td>86.995484</td>\n",
       "      <td>53</td>\n",
       "      <td>0.008233</td>\n",
       "      <td>0.675</td>\n",
       "    </tr>\n",
       "    <tr>\n",
       "      <th>825376</th>\n",
       "      <td>Woodend Farm</td>\n",
       "      <td>AquiMod</td>\n",
       "      <td>2005-02-17</td>\n",
       "      <td>85.0955</td>\n",
       "      <td>87.007742</td>\n",
       "      <td>53</td>\n",
       "      <td>0.470635</td>\n",
       "      <td>0.675</td>\n",
       "    </tr>\n",
       "    <tr>\n",
       "      <th>825377</th>\n",
       "      <td>Woodend Farm</td>\n",
       "      <td>AquiMod</td>\n",
       "      <td>2005-02-18</td>\n",
       "      <td>85.0862</td>\n",
       "      <td>87.020000</td>\n",
       "      <td>53</td>\n",
       "      <td>1.032489</td>\n",
       "      <td>0.675</td>\n",
       "    </tr>\n",
       "  </tbody>\n",
       "</table>\n",
       "<p>825378 rows × 8 columns</p>\n",
       "</div>"
      ],
      "text/plain": [
       "              Borehole    Model       Date      Sim        Obs  bhid  \\\n",
       "0       Allington No 2  AquiMod 2006-09-21  72.5336  67.997000     0   \n",
       "1       Allington No 2  AquiMod 2006-09-22  72.4902  67.933000     0   \n",
       "2       Allington No 2  AquiMod 2006-09-23  72.4493  67.903000     0   \n",
       "3       Allington No 2  AquiMod 2006-09-24  72.4086  67.859000     0   \n",
       "4       Allington No 2  AquiMod 2006-09-25  72.3679  67.754000     0   \n",
       "...                ...      ...        ...      ...        ...   ...   \n",
       "825373    Woodend Farm  AquiMod 2005-02-14  85.1202  86.970968    53   \n",
       "825374    Woodend Farm  AquiMod 2005-02-15  85.1124  86.983226    53   \n",
       "825375    Woodend Farm  AquiMod 2005-02-16  85.1042  86.995484    53   \n",
       "825376    Woodend Farm  AquiMod 2005-02-17  85.0955  87.007742    53   \n",
       "825377    Woodend Farm  AquiMod 2005-02-18  85.0862  87.020000    53   \n",
       "\n",
       "        precipwsnow    PET  \n",
       "0          0.156802  2.210  \n",
       "1          8.686279  2.210  \n",
       "2         12.740111  2.210  \n",
       "3          0.284288  2.210  \n",
       "4          0.002568  2.210  \n",
       "...             ...    ...  \n",
       "825373     0.002877  0.675  \n",
       "825374     0.000412  0.675  \n",
       "825375     0.008233  0.675  \n",
       "825376     0.470635  0.675  \n",
       "825377     1.032489  0.675  \n",
       "\n",
       "[825378 rows x 8 columns]"
      ]
     },
     "execution_count": 74,
     "metadata": {},
     "output_type": "execute_result"
    }
   ],
   "source": [
    "# Load in observed groundwater and meteorological data\n",
    "df_gwl = load_data(\"../data_processed/\", \"AquiMod_\")\n",
    "df_met = load_data(\"../data_processed/\", \"ukcp18_\")\n",
    "# Generate incremental borehole_id\n",
    "df_gwl['bhid'] = (df_gwl['Borehole'] != df_gwl['Borehole'].shift()).cumsum() - 1\n",
    "num_boreholes = df_gwl[\"bhid\"].max() + 1\n",
    "num_training = num_boreholes - num_validation\n",
    "# Merge data\n",
    "df_data = pd.merge(left=df_gwl, right=df_met, on=[\"Borehole\", \"Model\", \"Date\"], how=\"inner\").dropna().reset_index(drop=True)\n",
    "# Save memory\n",
    "del df_gwl\n",
    "del df_met\n",
    "df_data"
   ]
  },
  {
   "cell_type": "code",
   "execution_count": 75,
   "metadata": {},
   "outputs": [],
   "source": [
    "# Split data into separate dataframes for training, testing and validation\n",
    "# Fit GWL scalers\n",
    "# Transform GWL data with scalers\n",
    "# Create sequences\n",
    "# I have just realised that the validation data needs to include the final seq_length values from the training data\n",
    "\n",
    "df_train_test = df_data.query(f\"bhid < {num_training}\")\n",
    "# df_validation = df_data.query(f\"bhid >= {num_training}\")\n",
    "train_list = []\n",
    "test_list = []\n",
    "# Loop through training boreholes\n",
    "for i in range(num_training):\n",
    "    # Slice dataframe to borehole\n",
    "    df = df_train_test.query(\"bhid == @i\").copy()\n",
    "    # Split data into training and testing\n",
    "    train_size = int((len(df) - seq_length) * train_split)\n",
    "    train_list.append(df.iloc[:train_size])\n",
    "    test_list.append(df.iloc[train_size:])\n",
    "\n",
    "df_train = pd.concat(train_list)\n",
    "df_test = pd.concat(test_list)"
   ]
  },
  {
   "cell_type": "markdown",
   "metadata": {},
   "source": [
    "StandardScaler subtracts the mean and scales by the variance. To prevent data leakage from the testing or validation datasets into training, the scaler is fit using only the training dataset. The testing and validation data are scaled using the pre-fitted scalers."
   ]
  },
  {
   "cell_type": "code",
   "execution_count": 76,
   "metadata": {},
   "outputs": [],
   "source": [
    "# Initialise scalers\n",
    "precip_scaler = StandardScaler()\n",
    "pet_scaler = StandardScaler()\n",
    "gwl_scalers = [StandardScaler() for _ in range(num_boreholes)]\n",
    "\n",
    "# Fit and transform borehole-independent scalers\n",
    "precip_train = precip_scaler.fit_transform(df_train[\"precipwsnow\"].values.reshape(-1, 1))\n",
    "precip_test = precip_scaler.transform(df_test[\"precipwsnow\"].values.reshape(-1, 1))\n",
    "pet_train = pet_scaler.fit_transform(df_train[\"PET\"].values.reshape(-1, 1))\n",
    "pet_test = pet_scaler.transform(df_test[\"PET\"].values.reshape(-1, 1))\n",
    "# Extract bhid data\n",
    "bhid_train = df_train[\"bhid\"].values.reshape(-1, 1)\n",
    "bhid_test = df_test[\"bhid\"].values.reshape(-1, 1)\n",
    "\n",
    "# Fit and transform borehole scalers\n",
    "gwl_train = []\n",
    "gwl_test = []\n",
    "\n",
    "for i in range(num_training):\n",
    "    scaler = gwl_scalers[i]\n",
    "    gwl_train.append(scaler.fit_transform(df_train[df_train[\"bhid\"] == i][\"Obs\"].values.reshape(-1, 1)))\n",
    "    gwl_test.append(scaler.transform(df_test[df_test[\"bhid\"] == i][\"Obs\"].values.reshape(-1, 1)))\n",
    "\n",
    "gwl_train = np.vstack(gwl_train)\n",
    "gwl_test = np.vstack(gwl_test)"
   ]
  },
  {
   "cell_type": "code",
   "execution_count": 77,
   "metadata": {},
   "outputs": [],
   "source": [
    "# Add the final (seq_length - 1) number of timesteps to the testing data to generate continous sequences\n",
    "# I need to confirm this but I think we need to add (seq_length - 1) instead of (seq_length)\n",
    "# This is because prepending the full seq_length would create an entire timestep within the training data\n",
    "# Ultimately, it is only one day and doesn't actually matter much\n",
    "precip_test = np.concatenate((precip_train[-(seq_length - 1):], precip_test), axis=0)\n",
    "pet_test = np.concatenate((pet_train[-(seq_length - 1):], pet_test), axis=0)\n",
    "bhid_test = np.concatenate((bhid_train[-(seq_length - 1):], bhid_test), axis=0)\n",
    "gwl_test = np.concatenate((gwl_train[-(seq_length - 1):], gwl_test), axis=0)"
   ]
  },
  {
   "cell_type": "code",
   "execution_count": 78,
   "metadata": {},
   "outputs": [
    {
     "name": "stdout",
     "output_type": "stream",
     "text": [
      "(575170, 1)\n",
      "(181046, 1)\n",
      "(575170, 1)\n",
      "(181046, 1)\n",
      "(575170, 1)\n",
      "(181046, 1)\n",
      "(575170, 1)\n",
      "(181046, 1)\n"
     ]
    }
   ],
   "source": [
    "print(precip_train.shape)\n",
    "print(precip_test.shape)\n",
    "print(pet_train.shape)\n",
    "print(pet_test.shape)\n",
    "print(bhid_train.shape)\n",
    "print(bhid_test.shape)\n",
    "print(gwl_train.shape)\n",
    "print(gwl_test.shape)"
   ]
  },
  {
   "cell_type": "code",
   "execution_count": 79,
   "metadata": {},
   "outputs": [],
   "source": [
    "def create_sequences(data: np.ndarray, seq_length: int) -> np.ndarray:\n",
    "    \"\"\"\n",
    "    Transforms 2D time-series data into an array of sequences of a specified length.\n",
    "\n",
    "    Parameters:\n",
    "    data (np.ndarray): A 2D numpy array where each row is a time step and each column is a feature.\n",
    "    seq_length (int): The number of time steps to include in each output sequence.\n",
    "\n",
    "    Returns:\n",
    "    np.ndarray: A 3D numpy array of shape (num_samples - seq_length + 1, seq_length, num_features).\n",
    "    \"\"\"\n",
    "\n",
    "    xs = []  # Initialise an empty list to store sequences\n",
    "\n",
    "    # For each possible sequence in the data...\n",
    "    for i in range(len(data) - seq_length + 1):\n",
    "        # Extract a sequence of length `seq_length`\n",
    "        x = data[i: (i + seq_length)]\n",
    "        # Append the sequence to the list\n",
    "        xs.append(x)\n",
    "\n",
    "    # Convert the list of sequences into a 3D numpy array\n",
    "    return np.array(xs)"
   ]
  },
  {
   "cell_type": "code",
   "execution_count": 80,
   "metadata": {},
   "outputs": [],
   "source": [
    "# create_sequences has to be called individually on each timeseries from each borehole\n",
    "# Initialise lists to hold dynamic and static data for each borehole for train and test periods\n",
    "dynamic_train_list = []\n",
    "dynamic_test_list = []\n",
    "static_train_list = []\n",
    "static_test_list = []\n",
    "gwl_train_list = []\n",
    "gwl_test_list = []\n",
    "\n",
    "# Loop through training boreholes in each of the data types and call create_sequences\n",
    "for i in range(num_training):\n",
    "    train_mask = (bhid_train == i)\n",
    "    test_mask = (bhid_test == i)\n",
    "    dynamic_train_list.append(create_sequences(np.column_stack((precip_train[train_mask], pet_train[train_mask])), seq_length))\n",
    "    dynamic_test_list.append(create_sequences(np.column_stack((precip_test[test_mask], pet_test[test_mask])), seq_length))\n",
    "    static_train_list.append(create_sequences(bhid_train[train_mask], seq_length))\n",
    "    static_test_list.append(create_sequences(bhid_test[test_mask], seq_length))\n",
    "    gwl_train_list.append(gwl_train[train_mask][seq_length - 1:].reshape(-1, 1))\n",
    "    gwl_test_list.append(gwl_test[test_mask][seq_length - 1:].reshape(-1, 1))\n",
    "\n",
    "dynamic_train_arr = np.concatenate(dynamic_train_list)\n",
    "dynamic_test_arr = np.concatenate(dynamic_test_list)\n",
    "static_train_arr = np.concatenate(static_train_list)\n",
    "static_test_arr = np.concatenate(static_test_list)\n",
    "gwl_train_arr = np.concatenate(gwl_train_list)\n",
    "gwl_test_arr = np.concatenate(gwl_test_list)\n",
    "\n",
    "# Save memory\n",
    "del dynamic_train_list\n",
    "del dynamic_test_list\n",
    "del static_train_list\n",
    "del static_test_list\n",
    "del gwl_train_list\n",
    "del gwl_test_list\n"
   ]
  },
  {
   "cell_type": "code",
   "execution_count": 81,
   "metadata": {},
   "outputs": [
    {
     "name": "stdout",
     "output_type": "stream",
     "text": [
      "(538720, 730, 2)\n",
      "(144596, 730, 2)\n",
      "(538720, 730)\n",
      "(144596, 730)\n",
      "(538720, 1)\n",
      "(144596, 1)\n"
     ]
    }
   ],
   "source": [
    "print(dynamic_train_arr.shape)\n",
    "print(dynamic_test_arr.shape)\n",
    "print(static_train_arr.shape)\n",
    "print(static_test_arr.shape)\n",
    "print(gwl_train_arr.shape)\n",
    "print(gwl_test_arr.shape)"
   ]
  },
  {
   "cell_type": "code",
   "execution_count": 82,
   "metadata": {},
   "outputs": [],
   "source": [
    "dynamic_train_tensor = torch.from_numpy(dynamic_train_arr).float()\n",
    "dynamic_test_tensor = torch.from_numpy(dynamic_test_arr).float()\n",
    "static_train_tensor = torch.from_numpy(static_train_arr)\n",
    "static_test_tensor = torch.from_numpy(static_test_arr)\n",
    "gwl_train_tensor = torch.from_numpy(gwl_train_arr).float()\n",
    "gwl_test_tensor = torch.from_numpy(gwl_test_arr).float()"
   ]
  },
  {
   "cell_type": "code",
   "execution_count": 83,
   "metadata": {},
   "outputs": [
    {
     "name": "stdout",
     "output_type": "stream",
     "text": [
      "torch.float32\n",
      "torch.float32\n",
      "torch.int32\n",
      "torch.int32\n",
      "torch.float32\n",
      "torch.float32\n",
      "torch.Size([538720, 730, 2])\n",
      "torch.Size([144596, 730, 2])\n",
      "torch.Size([538720, 730])\n",
      "torch.Size([144596, 730])\n",
      "torch.Size([538720, 1])\n",
      "torch.Size([144596, 1])\n"
     ]
    }
   ],
   "source": [
    "print(dynamic_train_tensor.dtype)\n",
    "print(dynamic_test_tensor.dtype)\n",
    "print(static_train_tensor.dtype)\n",
    "print(static_test_tensor.dtype)\n",
    "print(gwl_train_tensor.dtype)\n",
    "print(gwl_test_tensor.dtype)\n",
    "print(dynamic_train_tensor.shape)\n",
    "print(dynamic_test_tensor.shape)\n",
    "print(static_train_tensor.shape)\n",
    "print(static_test_tensor.shape)\n",
    "print(gwl_train_tensor.shape)\n",
    "print(gwl_test_tensor.shape)"
   ]
  },
  {
   "cell_type": "code",
   "execution_count": 84,
   "metadata": {},
   "outputs": [],
   "source": [
    "# Define the dataset class\n",
    "class MultiTimeSeriesDataset(Dataset):\n",
    "    \"\"\"Pytorch dataset class for timeseries sequences data with both dynamic and static features.\"\"\"\n",
    "    def __init__(\n",
    "            self,\n",
    "            dynamic: torch.Tensor,\n",
    "            static: torch.Tensor,\n",
    "            target: torch.Tensor\n",
    "        ):\n",
    "        self.dynamic = dynamic\n",
    "        self.static = static\n",
    "        self.target = target\n",
    "\n",
    "    def __len__(self):\n",
    "        return len(self.dynamic)\n",
    "\n",
    "    def __getitem__(self, i):\n",
    "        return self.dynamic[i], self.static[i], self.target[i]"
   ]
  },
  {
   "cell_type": "code",
   "execution_count": 85,
   "metadata": {},
   "outputs": [],
   "source": [
    "# Instantiate datasets and dataloaders\n",
    "train_dataset = MultiTimeSeriesDataset(dynamic_train_tensor, static_train_tensor, gwl_train_tensor)\n",
    "test_dataset = MultiTimeSeriesDataset(dynamic_test_tensor, static_test_tensor, gwl_test_tensor)\n",
    "\n",
    "train_loader = DataLoader(train_dataset, batch_size=batch_size, shuffle=True)\n",
    "test_loader = DataLoader(test_dataset, batch_size=batch_size, shuffle=False)"
   ]
  },
  {
   "cell_type": "code",
   "execution_count": 86,
   "metadata": {},
   "outputs": [],
   "source": [
    "# Define the LSTM model\n",
    "class LSTM(nn.Module):\n",
    "    def __init__(\n",
    "            self,\n",
    "            dynamic_size: int,\n",
    "            static_len: int,\n",
    "            embedding_size: int,\n",
    "            hidden_size: int,\n",
    "            num_layers: int,\n",
    "            output_size: int,\n",
    "        ):\n",
    "        super().__init__()\n",
    "        self.hidden_size = hidden_size\n",
    "        self.num_layers = num_layers\n",
    "        self.embedding = nn.Embedding(static_len, embedding_size, max_norm=1)\n",
    "        self.lstm = nn.LSTM(dynamic_size + embedding_size, hidden_size, num_layers, batch_first=True)\n",
    "        self.fc = nn.Linear(hidden_size, output_size)\n",
    "\n",
    "    def forward(self, dynamic: torch.Tensor, static: torch.Tensor):\n",
    "        # Pass catchment identifiers through embedding layer\n",
    "        static_embeddings = self.embedding(static)\n",
    "        # Concatenate catchment embeddings with other features\n",
    "        x = torch.cat((dynamic, static_embeddings), dim=-1)\n",
    "        # Initialise hidden state with zeros\n",
    "        h0 = torch.zeros(self.num_layers, x.size(0), self.hidden_size).to(x.device)\n",
    "        # Initialise cell state with zeros\n",
    "        c0 = torch.zeros(self.num_layers, x.size(0), self.hidden_size).to(x.device)\n",
    "        # Forward propagate LSTM using input data, x, and initial states, h0 and c0\n",
    "        # x is a batch of input sequences of features\n",
    "        # h contains the updated hidden states from each timestep\n",
    "        # c contains the update cell states from each timestep\n",
    "        h, c = self.lstm(x, (h0, c0))\n",
    "        # The last hidden state from the output sequence is pass to the fully connected layer\n",
    "        out = self.fc(h[:, -1, :])\n",
    "        return out"
   ]
  },
  {
   "cell_type": "code",
   "execution_count": 87,
   "metadata": {},
   "outputs": [],
   "source": [
    "# Define the training function\n",
    "def train_epoch(model: LSTM, criterion: nn.Module, optimiser: nn.Module):\n",
    "    model.train()\n",
    "    running_loss = 0\n",
    "    for batch in train_loader:\n",
    "        # batch is a list of three elements, the dynamic, static and the target\n",
    "        dynamic_batch, static_batch, target_batch = (\n",
    "            batch[0].to(device), batch[1].to(device), batch[2].to(device)\n",
    "        )\n",
    "        # Forward propagate the model and get outputs\n",
    "        output = model(dynamic_batch, static_batch)\n",
    "        # Calculate loss between outputs and the target\n",
    "        loss = criterion(output, target_batch)\n",
    "        # Add loss to the running loss\n",
    "        running_loss += loss.item()\n",
    "        # Reset the gradients\n",
    "        optimiser.zero_grad()\n",
    "        # This, rather unpythonically, computes the gradients for all model parameters\n",
    "        loss.backward()\n",
    "        # Take a step in the gradient direction\n",
    "        optimiser.step()\n",
    "    # Return the average loss for each batch across the epoch\n",
    "    return running_loss / len(train_loader)"
   ]
  },
  {
   "cell_type": "code",
   "execution_count": 88,
   "metadata": {},
   "outputs": [],
   "source": [
    "# Define the testing function\n",
    "def test_epoch(model: LSTM, criterion: nn.Module):\n",
    "    model.eval()\n",
    "    running_loss = 0\n",
    "    for batch in test_loader:\n",
    "        # batch is a list of three elements, the dynamic, static and the target\n",
    "        dynamic_batch, static_batch, target_batch = (\n",
    "            batch[0].to(device), batch[1].to(device), batch[2].to(device)\n",
    "        )\n",
    "        with torch.no_grad():\n",
    "            # Forward propagate the model and get outputs\n",
    "            output = model(dynamic_batch, static_batch)\n",
    "            # Calculate loss between outputs and the target\n",
    "            loss = criterion(output, target_batch)\n",
    "            # Add loss to the running loss\n",
    "            running_loss += loss.item()\n",
    "    # Return the average loss for each batch across the epoch\n",
    "    return running_loss / len(test_loader)"
   ]
  },
  {
   "cell_type": "code",
   "execution_count": 89,
   "metadata": {},
   "outputs": [
    {
     "name": "stdout",
     "output_type": "stream",
     "text": [
      "The model has 10805 parameters\n"
     ]
    }
   ],
   "source": [
    "# Initialise the model, loss function, and optimiser\n",
    "model = LSTM(\n",
    "    dynamic_size=dynamic_train_tensor.size()[-1],\n",
    "    static_len=num_boreholes,\n",
    "    embedding_size=embedding_size,\n",
    "    hidden_size=hidden_size,\n",
    "    num_layers=num_layers,\n",
    "    output_size=gwl_train_tensor.size()[-1],\n",
    ").to(device)\n",
    "optimiser = torch.optim.Adam(model.parameters(), lr=lr)\n",
    "scheduler = ReduceLROnPlateau(optimiser, patience=patience, verbose=True)\n",
    "criterion = nn.MSELoss()\n",
    "\n",
    "def count_parameters(model: LSTM) -> int:\n",
    "    return sum(p.numel() for p in model.parameters() if p.requires_grad)\n",
    "\n",
    "\n",
    "print(f\"The model has {count_parameters(model)} parameters\")"
   ]
  },
  {
   "cell_type": "code",
   "execution_count": 90,
   "metadata": {},
   "outputs": [],
   "source": [
    "# Initialise lists for plotting\n",
    "train_loss = []\n",
    "test_loss = []"
   ]
  },
  {
   "cell_type": "code",
   "execution_count": 91,
   "metadata": {},
   "outputs": [],
   "source": [
    "epochs = 50"
   ]
  },
  {
   "cell_type": "code",
   "execution_count": 94,
   "metadata": {},
   "outputs": [
    {
     "name": "stdout",
     "output_type": "stream",
     "text": [
      "Epoch 1 Train: 0.115338, Test: 0.220245\n",
      "Epoch 2 Train: 0.113927, Test: 0.211858\n",
      "Epoch 3 Train: 0.112436, Test: 0.212494\n",
      "Epoch 4 Train: 0.112295, Test: 0.222453\n",
      "Epoch 5 Train: 0.110473, Test: 0.219187\n",
      "Epoch 6 Train: 0.109975, Test: 0.224082\n",
      "Epoch 7 Train: 0.109729, Test: 0.217837\n",
      "Epoch 8 Train: 0.117366, Test: 0.209738\n",
      "Epoch 9 Train: 0.105498, Test: 0.222246\n",
      "Epoch 10 Train: 0.105032, Test: 0.210989\n",
      "Epoch 11 Train: 0.103705, Test: 0.210031\n",
      "Epoch 12 Train: 0.102764, Test: 0.228216\n",
      "Epoch 13 Train: 0.103802, Test: 0.203342\n",
      "Epoch 14 Train: 0.101666, Test: 0.214546\n",
      "Epoch 15 Train: 0.100087, Test: 0.208484\n",
      "Epoch 16 Train: 0.099657, Test: 0.207407\n",
      "Epoch 17 Train: 0.101911, Test: 0.211019\n",
      "Epoch 18 Train: 0.098584, Test: 0.216181\n",
      "Epoch 19 Train: 0.100961, Test: 0.231014\n",
      "Epoch 20 Train: 0.09694, Test: 0.22758\n",
      "Epoch 21 Train: 0.096702, Test: 0.208977\n",
      "Epoch 22 Train: 0.09713, Test: 0.207029\n",
      "Epoch 23 Train: 0.094406, Test: 0.211003\n",
      "Epoch 24 Train: 0.094471, Test: 0.25275\n",
      "Epoch 25 Train: 0.094881, Test: 0.218094\n",
      "Epoch 26 Train: 0.093454, Test: 0.219158\n",
      "Epoch 27 Train: 0.09223, Test: 0.23542\n",
      "Epoch 28 Train: 0.093526, Test: 0.210819\n",
      "Epoch 29 Train: 0.092451, Test: 0.209844\n",
      "Epoch 30 Train: 0.091694, Test: 0.269858\n",
      "Epoch 31 Train: 0.091309, Test: 0.22379\n",
      "Epoch 32 Train: 0.090533, Test: 0.216521\n",
      "Epoch 33 Train: 0.094041, Test: 0.221475\n",
      "Epoch 34 Train: 0.089136, Test: 0.230804\n",
      "Epoch 35 Train: 0.092586, Test: 0.235635\n",
      "Epoch 36 Train: 0.091646, Test: 0.214928\n",
      "Epoch 37 Train: 0.091169, Test: 0.202363\n",
      "Epoch 38 Train: 0.094836, Test: 0.211234\n",
      "Epoch 39 Train: 0.089459, Test: 0.225563\n",
      "Epoch 40 Train: 0.087981, Test: 0.213201\n",
      "Epoch 41 Train: 0.088391, Test: 0.222613\n",
      "Epoch 42 Train: 0.093293, Test: 0.216744\n",
      "Epoch 43 Train: 0.085553, Test: 0.219235\n",
      "Epoch 44 Train: 0.087061, Test: 0.227909\n",
      "Epoch 45 Train: 0.095282, Test: 0.235978\n",
      "Epoch 46 Train: 0.086655, Test: 0.24031\n",
      "Epoch 47 Train: 0.083994, Test: 0.222671\n",
      "Epoch 48 Train: 0.085023, Test: 0.228229\n",
      "Epoch 49 Train: 0.090013, Test: 0.21011\n",
      "Epoch 50 Train: 0.085027, Test: 0.23092\n"
     ]
    }
   ],
   "source": [
    "for epoch in range(epochs):\n",
    "    train_loss.append(train_epoch(model, criterion, optimiser))\n",
    "    test_loss.append(test_epoch(model, criterion))\n",
    "    scheduler.step(train_loss[-1])\n",
    "\n",
    "    # Calculate NSE based on unscaled data\n",
    "    print(f\"Epoch {epoch + 1} Train: {round(train_loss[-1], 6)}, Test: {round(test_loss[-1], 6)}\")"
   ]
  },
  {
   "cell_type": "markdown",
   "metadata": {},
   "source": [
    "seq_length|hidden_size|num_layers|embedding_size|best_train|best_test|comment\n",
    "----------|-----------|----------|--------------|-----|----|-------\n",
    "730|2|2|2|0.2|0.24|\n",
    "730|5|2|2|0.16|0.21|\n",
    "730|5|2|4|0.14|0.20|beginning to overfit\n",
    "730|5|2|32|0.12|0.21|\n",
    "730|5|5|4|0.12|0.20|\n",
    "730|20|3|4|0.09|0.22\n",
    "730|20|3|16|0.09|0.20|edit here"
   ]
  },
  {
   "cell_type": "code",
   "execution_count": 95,
   "metadata": {},
   "outputs": [
    {
     "data": {
      "application/vnd.plotly.v1+json": {
       "config": {
        "plotlyServerURL": "https://plot.ly"
       },
       "data": [
        {
         "hovertemplate": "variable=0<br>index=%{x}<br>value=%{y}<extra></extra>",
         "legendgroup": "0",
         "line": {
          "color": "#636efa",
          "dash": "solid"
         },
         "marker": {
          "symbol": "circle"
         },
         "mode": "lines",
         "name": "0",
         "orientation": "v",
         "showlegend": true,
         "type": "scatter",
         "x": [
          0,
          1,
          2,
          3,
          4,
          5,
          6,
          7,
          8,
          9,
          10,
          11,
          12,
          13,
          14,
          15,
          16,
          17,
          18,
          19,
          20,
          21,
          22,
          23,
          24,
          25,
          26,
          27,
          28,
          29,
          30,
          31,
          32,
          33,
          34,
          35,
          36,
          37,
          38,
          39,
          40,
          41,
          42,
          43,
          44,
          45,
          46,
          47,
          48,
          49,
          50,
          51,
          52,
          53,
          54,
          55,
          56,
          57,
          58,
          59,
          60,
          61,
          62,
          63,
          64,
          65,
          66,
          67,
          68,
          69,
          70,
          71,
          72,
          73,
          74,
          75,
          76,
          77,
          78,
          79,
          80,
          81,
          82,
          83,
          84,
          85,
          86,
          87,
          88,
          89,
          90,
          91,
          92,
          93,
          94,
          95,
          96,
          97,
          98,
          99
         ],
         "xaxis": "x",
         "y": [
          0.9271442290158467,
          0.6136716569987004,
          0.5453740360333822,
          0.4837539815268738,
          0.4470191505956061,
          0.4260801053398129,
          0.3975330201762128,
          0.5160042024009701,
          0.41702443717891335,
          0.3623086585674757,
          0.3726145201995049,
          0.32802337945809507,
          0.31592380481171584,
          0.289812884779058,
          0.2752609048021032,
          0.2575935015255003,
          0.25437067011822323,
          0.24778850724724283,
          0.22645241965991705,
          0.2161758381162274,
          0.21455089749320846,
          0.20416512827814362,
          0.19708674921099617,
          0.19211433000034756,
          0.19699219854129346,
          0.22521903442974217,
          0.18301989367375007,
          0.17264147933505314,
          0.1675006243252573,
          0.16401846822199093,
          0.15996629495000342,
          0.15398789913254698,
          0.15007742129952592,
          0.1461606387894491,
          0.14350772436782505,
          0.14195259589726655,
          0.13806350199472078,
          0.13720525610141265,
          0.13383513666399297,
          0.13271981029145966,
          0.13319674536147122,
          0.12757585862083654,
          0.1265694505879116,
          0.12666093521280053,
          0.12305575125945373,
          0.1236294377931276,
          0.12025557136462059,
          0.12225868122020678,
          0.11901993718412188,
          0.11655913074018835,
          0.11533782902860913,
          0.11392731341229997,
          0.11243641029792181,
          0.11229534618422063,
          0.11047311922480464,
          0.10997532638531012,
          0.10972875191813294,
          0.11736552219869745,
          0.10549818764724622,
          0.10503229289426197,
          0.10370535086504301,
          0.10276444041915768,
          0.1038019122504554,
          0.10166636499216301,
          0.1000870266276547,
          0.09965688455761441,
          0.10191147958422885,
          0.09858373557513708,
          0.1009608376682767,
          0.09694039910069445,
          0.09670174982954181,
          0.0971303654220822,
          0.0944064516514002,
          0.09447135916377744,
          0.09488093514784336,
          0.09345418746173664,
          0.09222971194079685,
          0.0935258141525111,
          0.09245051459850635,
          0.09169368600828355,
          0.09130946367427155,
          0.09053327677398212,
          0.0940411284544699,
          0.08913577229831746,
          0.09258581086611137,
          0.0916458816609831,
          0.09116916011767737,
          0.09483576100408068,
          0.08945851779745402,
          0.08798058553539563,
          0.08839100722757726,
          0.09329270853431929,
          0.08555288781595026,
          0.08706133661248631,
          0.09528202115640341,
          0.08665488744181106,
          0.08399385013966931,
          0.08502303100662467,
          0.09001299391827013,
          0.08502691805518364
         ],
         "yaxis": "y"
        },
        {
         "hovertemplate": "variable=1<br>index=%{x}<br>value=%{y}<extra></extra>",
         "legendgroup": "1",
         "line": {
          "color": "#EF553B",
          "dash": "solid"
         },
         "marker": {
          "symbol": "circle"
         },
         "mode": "lines",
         "name": "1",
         "orientation": "v",
         "showlegend": true,
         "type": "scatter",
         "x": [
          0,
          1,
          2,
          3,
          4,
          5,
          6,
          7,
          8,
          9,
          10,
          11,
          12,
          13,
          14,
          15,
          16,
          17,
          18,
          19,
          20,
          21,
          22,
          23,
          24,
          25,
          26,
          27,
          28,
          29,
          30,
          31,
          32,
          33,
          34,
          35,
          36,
          37,
          38,
          39,
          40,
          41,
          42,
          43,
          44,
          45,
          46,
          47,
          48,
          49,
          50,
          51,
          52,
          53,
          54,
          55,
          56,
          57,
          58,
          59,
          60,
          61,
          62,
          63,
          64,
          65,
          66,
          67,
          68,
          69,
          70,
          71,
          72,
          73,
          74,
          75,
          76,
          77,
          78,
          79,
          80,
          81,
          82,
          83,
          84,
          85,
          86,
          87,
          88,
          89,
          90,
          91,
          92,
          93,
          94,
          95,
          96,
          97,
          98,
          99
         ],
         "xaxis": "x",
         "y": [
          0.7090411855190887,
          0.5234959165930959,
          0.49228348144636136,
          0.4930358424835407,
          0.44588666600125837,
          0.4117893280573321,
          0.836651446659763,
          0.43277621545661044,
          0.3957090373463639,
          0.3953980336248769,
          0.3950346289630387,
          0.36562727441741383,
          0.35365880892839113,
          0.320012496797493,
          0.40100616414113094,
          0.2969382234154657,
          0.31133318797754317,
          0.2728460509817086,
          0.29849120374940097,
          0.2973783785615498,
          0.27426671111041373,
          0.2661594894086093,
          0.27941802715349534,
          0.28231555280068316,
          0.384827829673623,
          0.25549197040972144,
          0.25256909269431455,
          0.24384936840724292,
          0.23862814335909413,
          0.25283517955404183,
          0.2703552519534007,
          0.23963032584545257,
          0.24159252126915085,
          0.2609161868684863,
          0.23405346034469854,
          0.26741387034427416,
          0.2504732671947393,
          0.22779841382425053,
          0.22786377168296715,
          0.22451611388270667,
          0.24416000888330777,
          0.21306022596561972,
          0.24013996182516376,
          0.2250931530552439,
          0.22726653797992968,
          0.219211527514979,
          0.22027272375649362,
          0.2252046062015392,
          0.21261459481392334,
          0.22851440811352047,
          0.22024519716195315,
          0.21185795079864062,
          0.21249400895391674,
          0.22245304021892193,
          0.2191870364923254,
          0.2240824948851506,
          0.2178371130051124,
          0.20973754435277447,
          0.2222455198228254,
          0.2109888524356769,
          0.21003101972777516,
          0.2282161677335208,
          0.20334232323424556,
          0.21454639150020616,
          0.20848420629600334,
          0.2074069921881645,
          0.21101912648775764,
          0.2161811499925521,
          0.2310135076447742,
          0.22758025807976828,
          0.20897715944836293,
          0.2070289535790208,
          0.2110029762025014,
          0.25275023805155244,
          0.21809372640553823,
          0.21915844887126462,
          0.23541969903037216,
          0.21081875519688792,
          0.20984437985365467,
          0.26985796710785626,
          0.22378962741368336,
          0.21652082918876578,
          0.22147459771760572,
          0.23080376610357328,
          0.2356349424304368,
          0.2149275426947028,
          0.2023627685659397,
          0.21123440786143075,
          0.22556284414900488,
          0.21320130849790236,
          0.22261325379524236,
          0.21674420130718827,
          0.21923539061230926,
          0.22790861771813867,
          0.2359784964945944,
          0.2403102631387778,
          0.222671122046668,
          0.22822860526348804,
          0.21011015862331794,
          0.23091993773152045
         ],
         "yaxis": "y"
        }
       ],
       "layout": {
        "legend": {
         "title": {
          "text": "variable"
         },
         "tracegroupgap": 0
        },
        "margin": {
         "t": 60
        },
        "template": {
         "data": {
          "bar": [
           {
            "error_x": {
             "color": "#2a3f5f"
            },
            "error_y": {
             "color": "#2a3f5f"
            },
            "marker": {
             "line": {
              "color": "#E5ECF6",
              "width": 0.5
             },
             "pattern": {
              "fillmode": "overlay",
              "size": 10,
              "solidity": 0.2
             }
            },
            "type": "bar"
           }
          ],
          "barpolar": [
           {
            "marker": {
             "line": {
              "color": "#E5ECF6",
              "width": 0.5
             },
             "pattern": {
              "fillmode": "overlay",
              "size": 10,
              "solidity": 0.2
             }
            },
            "type": "barpolar"
           }
          ],
          "carpet": [
           {
            "aaxis": {
             "endlinecolor": "#2a3f5f",
             "gridcolor": "white",
             "linecolor": "white",
             "minorgridcolor": "white",
             "startlinecolor": "#2a3f5f"
            },
            "baxis": {
             "endlinecolor": "#2a3f5f",
             "gridcolor": "white",
             "linecolor": "white",
             "minorgridcolor": "white",
             "startlinecolor": "#2a3f5f"
            },
            "type": "carpet"
           }
          ],
          "choropleth": [
           {
            "colorbar": {
             "outlinewidth": 0,
             "ticks": ""
            },
            "type": "choropleth"
           }
          ],
          "contour": [
           {
            "colorbar": {
             "outlinewidth": 0,
             "ticks": ""
            },
            "colorscale": [
             [
              0,
              "#0d0887"
             ],
             [
              0.1111111111111111,
              "#46039f"
             ],
             [
              0.2222222222222222,
              "#7201a8"
             ],
             [
              0.3333333333333333,
              "#9c179e"
             ],
             [
              0.4444444444444444,
              "#bd3786"
             ],
             [
              0.5555555555555556,
              "#d8576b"
             ],
             [
              0.6666666666666666,
              "#ed7953"
             ],
             [
              0.7777777777777778,
              "#fb9f3a"
             ],
             [
              0.8888888888888888,
              "#fdca26"
             ],
             [
              1,
              "#f0f921"
             ]
            ],
            "type": "contour"
           }
          ],
          "contourcarpet": [
           {
            "colorbar": {
             "outlinewidth": 0,
             "ticks": ""
            },
            "type": "contourcarpet"
           }
          ],
          "heatmap": [
           {
            "colorbar": {
             "outlinewidth": 0,
             "ticks": ""
            },
            "colorscale": [
             [
              0,
              "#0d0887"
             ],
             [
              0.1111111111111111,
              "#46039f"
             ],
             [
              0.2222222222222222,
              "#7201a8"
             ],
             [
              0.3333333333333333,
              "#9c179e"
             ],
             [
              0.4444444444444444,
              "#bd3786"
             ],
             [
              0.5555555555555556,
              "#d8576b"
             ],
             [
              0.6666666666666666,
              "#ed7953"
             ],
             [
              0.7777777777777778,
              "#fb9f3a"
             ],
             [
              0.8888888888888888,
              "#fdca26"
             ],
             [
              1,
              "#f0f921"
             ]
            ],
            "type": "heatmap"
           }
          ],
          "heatmapgl": [
           {
            "colorbar": {
             "outlinewidth": 0,
             "ticks": ""
            },
            "colorscale": [
             [
              0,
              "#0d0887"
             ],
             [
              0.1111111111111111,
              "#46039f"
             ],
             [
              0.2222222222222222,
              "#7201a8"
             ],
             [
              0.3333333333333333,
              "#9c179e"
             ],
             [
              0.4444444444444444,
              "#bd3786"
             ],
             [
              0.5555555555555556,
              "#d8576b"
             ],
             [
              0.6666666666666666,
              "#ed7953"
             ],
             [
              0.7777777777777778,
              "#fb9f3a"
             ],
             [
              0.8888888888888888,
              "#fdca26"
             ],
             [
              1,
              "#f0f921"
             ]
            ],
            "type": "heatmapgl"
           }
          ],
          "histogram": [
           {
            "marker": {
             "pattern": {
              "fillmode": "overlay",
              "size": 10,
              "solidity": 0.2
             }
            },
            "type": "histogram"
           }
          ],
          "histogram2d": [
           {
            "colorbar": {
             "outlinewidth": 0,
             "ticks": ""
            },
            "colorscale": [
             [
              0,
              "#0d0887"
             ],
             [
              0.1111111111111111,
              "#46039f"
             ],
             [
              0.2222222222222222,
              "#7201a8"
             ],
             [
              0.3333333333333333,
              "#9c179e"
             ],
             [
              0.4444444444444444,
              "#bd3786"
             ],
             [
              0.5555555555555556,
              "#d8576b"
             ],
             [
              0.6666666666666666,
              "#ed7953"
             ],
             [
              0.7777777777777778,
              "#fb9f3a"
             ],
             [
              0.8888888888888888,
              "#fdca26"
             ],
             [
              1,
              "#f0f921"
             ]
            ],
            "type": "histogram2d"
           }
          ],
          "histogram2dcontour": [
           {
            "colorbar": {
             "outlinewidth": 0,
             "ticks": ""
            },
            "colorscale": [
             [
              0,
              "#0d0887"
             ],
             [
              0.1111111111111111,
              "#46039f"
             ],
             [
              0.2222222222222222,
              "#7201a8"
             ],
             [
              0.3333333333333333,
              "#9c179e"
             ],
             [
              0.4444444444444444,
              "#bd3786"
             ],
             [
              0.5555555555555556,
              "#d8576b"
             ],
             [
              0.6666666666666666,
              "#ed7953"
             ],
             [
              0.7777777777777778,
              "#fb9f3a"
             ],
             [
              0.8888888888888888,
              "#fdca26"
             ],
             [
              1,
              "#f0f921"
             ]
            ],
            "type": "histogram2dcontour"
           }
          ],
          "mesh3d": [
           {
            "colorbar": {
             "outlinewidth": 0,
             "ticks": ""
            },
            "type": "mesh3d"
           }
          ],
          "parcoords": [
           {
            "line": {
             "colorbar": {
              "outlinewidth": 0,
              "ticks": ""
             }
            },
            "type": "parcoords"
           }
          ],
          "pie": [
           {
            "automargin": true,
            "type": "pie"
           }
          ],
          "scatter": [
           {
            "fillpattern": {
             "fillmode": "overlay",
             "size": 10,
             "solidity": 0.2
            },
            "type": "scatter"
           }
          ],
          "scatter3d": [
           {
            "line": {
             "colorbar": {
              "outlinewidth": 0,
              "ticks": ""
             }
            },
            "marker": {
             "colorbar": {
              "outlinewidth": 0,
              "ticks": ""
             }
            },
            "type": "scatter3d"
           }
          ],
          "scattercarpet": [
           {
            "marker": {
             "colorbar": {
              "outlinewidth": 0,
              "ticks": ""
             }
            },
            "type": "scattercarpet"
           }
          ],
          "scattergeo": [
           {
            "marker": {
             "colorbar": {
              "outlinewidth": 0,
              "ticks": ""
             }
            },
            "type": "scattergeo"
           }
          ],
          "scattergl": [
           {
            "marker": {
             "colorbar": {
              "outlinewidth": 0,
              "ticks": ""
             }
            },
            "type": "scattergl"
           }
          ],
          "scattermapbox": [
           {
            "marker": {
             "colorbar": {
              "outlinewidth": 0,
              "ticks": ""
             }
            },
            "type": "scattermapbox"
           }
          ],
          "scatterpolar": [
           {
            "marker": {
             "colorbar": {
              "outlinewidth": 0,
              "ticks": ""
             }
            },
            "type": "scatterpolar"
           }
          ],
          "scatterpolargl": [
           {
            "marker": {
             "colorbar": {
              "outlinewidth": 0,
              "ticks": ""
             }
            },
            "type": "scatterpolargl"
           }
          ],
          "scatterternary": [
           {
            "marker": {
             "colorbar": {
              "outlinewidth": 0,
              "ticks": ""
             }
            },
            "type": "scatterternary"
           }
          ],
          "surface": [
           {
            "colorbar": {
             "outlinewidth": 0,
             "ticks": ""
            },
            "colorscale": [
             [
              0,
              "#0d0887"
             ],
             [
              0.1111111111111111,
              "#46039f"
             ],
             [
              0.2222222222222222,
              "#7201a8"
             ],
             [
              0.3333333333333333,
              "#9c179e"
             ],
             [
              0.4444444444444444,
              "#bd3786"
             ],
             [
              0.5555555555555556,
              "#d8576b"
             ],
             [
              0.6666666666666666,
              "#ed7953"
             ],
             [
              0.7777777777777778,
              "#fb9f3a"
             ],
             [
              0.8888888888888888,
              "#fdca26"
             ],
             [
              1,
              "#f0f921"
             ]
            ],
            "type": "surface"
           }
          ],
          "table": [
           {
            "cells": {
             "fill": {
              "color": "#EBF0F8"
             },
             "line": {
              "color": "white"
             }
            },
            "header": {
             "fill": {
              "color": "#C8D4E3"
             },
             "line": {
              "color": "white"
             }
            },
            "type": "table"
           }
          ]
         },
         "layout": {
          "annotationdefaults": {
           "arrowcolor": "#2a3f5f",
           "arrowhead": 0,
           "arrowwidth": 1
          },
          "autotypenumbers": "strict",
          "coloraxis": {
           "colorbar": {
            "outlinewidth": 0,
            "ticks": ""
           }
          },
          "colorscale": {
           "diverging": [
            [
             0,
             "#8e0152"
            ],
            [
             0.1,
             "#c51b7d"
            ],
            [
             0.2,
             "#de77ae"
            ],
            [
             0.3,
             "#f1b6da"
            ],
            [
             0.4,
             "#fde0ef"
            ],
            [
             0.5,
             "#f7f7f7"
            ],
            [
             0.6,
             "#e6f5d0"
            ],
            [
             0.7,
             "#b8e186"
            ],
            [
             0.8,
             "#7fbc41"
            ],
            [
             0.9,
             "#4d9221"
            ],
            [
             1,
             "#276419"
            ]
           ],
           "sequential": [
            [
             0,
             "#0d0887"
            ],
            [
             0.1111111111111111,
             "#46039f"
            ],
            [
             0.2222222222222222,
             "#7201a8"
            ],
            [
             0.3333333333333333,
             "#9c179e"
            ],
            [
             0.4444444444444444,
             "#bd3786"
            ],
            [
             0.5555555555555556,
             "#d8576b"
            ],
            [
             0.6666666666666666,
             "#ed7953"
            ],
            [
             0.7777777777777778,
             "#fb9f3a"
            ],
            [
             0.8888888888888888,
             "#fdca26"
            ],
            [
             1,
             "#f0f921"
            ]
           ],
           "sequentialminus": [
            [
             0,
             "#0d0887"
            ],
            [
             0.1111111111111111,
             "#46039f"
            ],
            [
             0.2222222222222222,
             "#7201a8"
            ],
            [
             0.3333333333333333,
             "#9c179e"
            ],
            [
             0.4444444444444444,
             "#bd3786"
            ],
            [
             0.5555555555555556,
             "#d8576b"
            ],
            [
             0.6666666666666666,
             "#ed7953"
            ],
            [
             0.7777777777777778,
             "#fb9f3a"
            ],
            [
             0.8888888888888888,
             "#fdca26"
            ],
            [
             1,
             "#f0f921"
            ]
           ]
          },
          "colorway": [
           "#636efa",
           "#EF553B",
           "#00cc96",
           "#ab63fa",
           "#FFA15A",
           "#19d3f3",
           "#FF6692",
           "#B6E880",
           "#FF97FF",
           "#FECB52"
          ],
          "font": {
           "color": "#2a3f5f"
          },
          "geo": {
           "bgcolor": "white",
           "lakecolor": "white",
           "landcolor": "#E5ECF6",
           "showlakes": true,
           "showland": true,
           "subunitcolor": "white"
          },
          "hoverlabel": {
           "align": "left"
          },
          "hovermode": "closest",
          "mapbox": {
           "style": "light"
          },
          "paper_bgcolor": "white",
          "plot_bgcolor": "#E5ECF6",
          "polar": {
           "angularaxis": {
            "gridcolor": "white",
            "linecolor": "white",
            "ticks": ""
           },
           "bgcolor": "#E5ECF6",
           "radialaxis": {
            "gridcolor": "white",
            "linecolor": "white",
            "ticks": ""
           }
          },
          "scene": {
           "xaxis": {
            "backgroundcolor": "#E5ECF6",
            "gridcolor": "white",
            "gridwidth": 2,
            "linecolor": "white",
            "showbackground": true,
            "ticks": "",
            "zerolinecolor": "white"
           },
           "yaxis": {
            "backgroundcolor": "#E5ECF6",
            "gridcolor": "white",
            "gridwidth": 2,
            "linecolor": "white",
            "showbackground": true,
            "ticks": "",
            "zerolinecolor": "white"
           },
           "zaxis": {
            "backgroundcolor": "#E5ECF6",
            "gridcolor": "white",
            "gridwidth": 2,
            "linecolor": "white",
            "showbackground": true,
            "ticks": "",
            "zerolinecolor": "white"
           }
          },
          "shapedefaults": {
           "line": {
            "color": "#2a3f5f"
           }
          },
          "ternary": {
           "aaxis": {
            "gridcolor": "white",
            "linecolor": "white",
            "ticks": ""
           },
           "baxis": {
            "gridcolor": "white",
            "linecolor": "white",
            "ticks": ""
           },
           "bgcolor": "#E5ECF6",
           "caxis": {
            "gridcolor": "white",
            "linecolor": "white",
            "ticks": ""
           }
          },
          "title": {
           "x": 0.05
          },
          "xaxis": {
           "automargin": true,
           "gridcolor": "white",
           "linecolor": "white",
           "ticks": "",
           "title": {
            "standoff": 15
           },
           "zerolinecolor": "white",
           "zerolinewidth": 2
          },
          "yaxis": {
           "automargin": true,
           "gridcolor": "white",
           "linecolor": "white",
           "ticks": "",
           "title": {
            "standoff": 15
           },
           "zerolinecolor": "white",
           "zerolinewidth": 2
          }
         }
        },
        "xaxis": {
         "anchor": "y",
         "domain": [
          0,
          1
         ],
         "title": {
          "text": "index"
         }
        },
        "yaxis": {
         "anchor": "x",
         "domain": [
          0,
          1
         ],
         "title": {
          "text": "value"
         }
        }
       }
      }
     },
     "metadata": {},
     "output_type": "display_data"
    }
   ],
   "source": [
    "px.line(pd.DataFrame(np.column_stack((train_loss, test_loss))))"
   ]
  },
  {
   "cell_type": "code",
   "execution_count": 25,
   "metadata": {},
   "outputs": [],
   "source": [
    "torch.save(model, \"temp_model.pt\")\n",
    "# model = torch.load(\"temp_model.pt\")"
   ]
  },
  {
   "cell_type": "markdown",
   "metadata": {},
   "source": [
    "To test NSE, I will need to perform infererence on all training boreholes, for the training and testing periods."
   ]
  }
 ],
 "metadata": {
  "kernelspec": {
   "display_name": "base",
   "language": "python",
   "name": "python3"
  },
  "language_info": {
   "codemirror_mode": {
    "name": "ipython",
    "version": 3
   },
   "file_extension": ".py",
   "mimetype": "text/x-python",
   "name": "python",
   "nbconvert_exporter": "python",
   "pygments_lexer": "ipython3",
   "version": "3.11.5"
  }
 },
 "nbformat": 4,
 "nbformat_minor": 2
}
