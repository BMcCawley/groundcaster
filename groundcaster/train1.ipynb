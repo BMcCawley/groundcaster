{
 "cells": [
  {
   "cell_type": "markdown",
   "metadata": {},
   "source": [
    "# Train regional groundwater model\n",
    "\n",
    "This notebook trains a regional LSTM model on borehole data. It does not perform validation or inference.\n",
    "\n",
    "This model will take GWL at the previous timesteps as well as precipitation and PET. I predict this version of the model will perform very well. However, actually using this model for inference/forecast will be a bit more timeconsuming as each timestep must be calculated individually. Quite a bit of code will be required here.\n",
    "\n",
    "**Tasks**\n",
    "- Load in the data\n",
    "- Split data into training, testing and validation with finetuning:\n",
    "    - First 10% of data from 50 boreholes for testing\n",
    "    - Final 90% of data from 50 boreholes for training\n",
    "    - First 20% of data from unseen boreholes for finetuning\n",
    "    - Final 80% of data from unseen boreholes for validation\n",
    "- Instantiate, fit and transform data with scalers:\n",
    "    - Instantiate a scaler for each borehole\n",
    "    - Fit StandardScalers using the training period of each borehole (precip, PET and GWL)\n",
    "    - Transform both the training and testing data using scalers\n",
    "- Reshape dynamic and static data into sequences\n",
    "- Create datasets and dataloaders\n",
    "- Train model\n",
    "\n",
    "Train model on 80% of data from 50 boreholes. Give the input size of the embedding layer as 54, to allow for the model to be finetuned on the unseen boreholes."
   ]
  },
  {
   "cell_type": "code",
   "execution_count": 14,
   "metadata": {},
   "outputs": [],
   "source": [
    "import numpy as np\n",
    "import pandas as pd\n",
    "from pathlib import Path\n",
    "import torch\n",
    "import torch.nn as nn\n",
    "from torch.utils.data import Dataset, DataLoader\n",
    "from torch.optim.lr_scheduler import ReduceLROnPlateau\n",
    "from sklearn.preprocessing import StandardScaler\n",
    "import plotly.express as px\n",
    "import plotly.graph_objects as go\n",
    "from funcs import load_data"
   ]
  },
  {
   "cell_type": "code",
   "execution_count": 2,
   "metadata": {},
   "outputs": [
    {
     "data": {
      "text/plain": [
       "device(type='cuda')"
      ]
     },
     "execution_count": 2,
     "metadata": {},
     "output_type": "execute_result"
    }
   ],
   "source": [
    "# Define hyperparameters\n",
    "# Number of validation boreholes (not used in training or testing)\n",
    "num_validation = 4\n",
    "# Sequence length also acts similarly to the warm up period in conventional models\n",
    "seq_length = 365\n",
    "# Portion of data for training, from which test proportion is inferred\n",
    "train_split = 0.8\n",
    "# Batch size should be a exponent of base 2\n",
    "batch_size = 512\n",
    "# Hidden size of LSTM\n",
    "hidden_size = 30\n",
    "# Number of stacked layers of LSTM\n",
    "num_layers = 3\n",
    "# Embedding size\n",
    "embedding_size = 16 \n",
    "# Initial learning rate\n",
    "lr = 0.0001\n",
    "# Number of epochs\n",
    "epochs = 100"
   ]
  },
  {
   "cell_type": "code",
   "execution_count": null,
   "metadata": {},
   "outputs": [],
   "source": [
    "# Check if GPU is available\n",
    "device = torch.device(\"cuda\" if torch.cuda.is_available() else \"cpu\")\n",
    "device"
   ]
  },
  {
   "cell_type": "markdown",
   "metadata": {},
   "source": [
    "I think this time I will keep the data in a list of dataframes\n",
    "\n",
    "- Loop through the data\n",
    "- Add borehole id to one of the dataframes\n",
    "- Count the number of boreholes\n",
    "- Split the data into training and testing"
   ]
  },
  {
   "cell_type": "code",
   "execution_count": 5,
   "metadata": {},
   "outputs": [
    {
     "data": {
      "text/html": [
       "<div>\n",
       "<style scoped>\n",
       "    .dataframe tbody tr th:only-of-type {\n",
       "        vertical-align: middle;\n",
       "    }\n",
       "\n",
       "    .dataframe tbody tr th {\n",
       "        vertical-align: top;\n",
       "    }\n",
       "\n",
       "    .dataframe thead th {\n",
       "        text-align: right;\n",
       "    }\n",
       "</style>\n",
       "<table border=\"1\" class=\"dataframe\">\n",
       "  <thead>\n",
       "    <tr style=\"text-align: right;\">\n",
       "      <th></th>\n",
       "      <th>Borehole</th>\n",
       "      <th>Model</th>\n",
       "      <th>Date</th>\n",
       "      <th>Sim</th>\n",
       "      <th>Obs</th>\n",
       "      <th>bhid</th>\n",
       "      <th>precipwsnow</th>\n",
       "      <th>PET</th>\n",
       "    </tr>\n",
       "  </thead>\n",
       "  <tbody>\n",
       "    <tr>\n",
       "      <th>0</th>\n",
       "      <td>Allington No 2</td>\n",
       "      <td>AquiMod</td>\n",
       "      <td>2006-09-21</td>\n",
       "      <td>72.5336</td>\n",
       "      <td>67.997000</td>\n",
       "      <td>0</td>\n",
       "      <td>0.156802</td>\n",
       "      <td>2.210</td>\n",
       "    </tr>\n",
       "    <tr>\n",
       "      <th>1</th>\n",
       "      <td>Allington No 2</td>\n",
       "      <td>AquiMod</td>\n",
       "      <td>2006-09-22</td>\n",
       "      <td>72.4902</td>\n",
       "      <td>67.933000</td>\n",
       "      <td>0</td>\n",
       "      <td>8.686279</td>\n",
       "      <td>2.210</td>\n",
       "    </tr>\n",
       "    <tr>\n",
       "      <th>2</th>\n",
       "      <td>Allington No 2</td>\n",
       "      <td>AquiMod</td>\n",
       "      <td>2006-09-23</td>\n",
       "      <td>72.4493</td>\n",
       "      <td>67.903000</td>\n",
       "      <td>0</td>\n",
       "      <td>12.740111</td>\n",
       "      <td>2.210</td>\n",
       "    </tr>\n",
       "    <tr>\n",
       "      <th>3</th>\n",
       "      <td>Allington No 2</td>\n",
       "      <td>AquiMod</td>\n",
       "      <td>2006-09-24</td>\n",
       "      <td>72.4086</td>\n",
       "      <td>67.859000</td>\n",
       "      <td>0</td>\n",
       "      <td>0.284288</td>\n",
       "      <td>2.210</td>\n",
       "    </tr>\n",
       "    <tr>\n",
       "      <th>4</th>\n",
       "      <td>Allington No 2</td>\n",
       "      <td>AquiMod</td>\n",
       "      <td>2006-09-25</td>\n",
       "      <td>72.3679</td>\n",
       "      <td>67.754000</td>\n",
       "      <td>0</td>\n",
       "      <td>0.002568</td>\n",
       "      <td>2.210</td>\n",
       "    </tr>\n",
       "    <tr>\n",
       "      <th>...</th>\n",
       "      <td>...</td>\n",
       "      <td>...</td>\n",
       "      <td>...</td>\n",
       "      <td>...</td>\n",
       "      <td>...</td>\n",
       "      <td>...</td>\n",
       "      <td>...</td>\n",
       "      <td>...</td>\n",
       "    </tr>\n",
       "    <tr>\n",
       "      <th>825373</th>\n",
       "      <td>Woodend Farm</td>\n",
       "      <td>AquiMod</td>\n",
       "      <td>2005-02-14</td>\n",
       "      <td>85.1202</td>\n",
       "      <td>86.970968</td>\n",
       "      <td>53</td>\n",
       "      <td>0.002877</td>\n",
       "      <td>0.675</td>\n",
       "    </tr>\n",
       "    <tr>\n",
       "      <th>825374</th>\n",
       "      <td>Woodend Farm</td>\n",
       "      <td>AquiMod</td>\n",
       "      <td>2005-02-15</td>\n",
       "      <td>85.1124</td>\n",
       "      <td>86.983226</td>\n",
       "      <td>53</td>\n",
       "      <td>0.000412</td>\n",
       "      <td>0.675</td>\n",
       "    </tr>\n",
       "    <tr>\n",
       "      <th>825375</th>\n",
       "      <td>Woodend Farm</td>\n",
       "      <td>AquiMod</td>\n",
       "      <td>2005-02-16</td>\n",
       "      <td>85.1042</td>\n",
       "      <td>86.995484</td>\n",
       "      <td>53</td>\n",
       "      <td>0.008233</td>\n",
       "      <td>0.675</td>\n",
       "    </tr>\n",
       "    <tr>\n",
       "      <th>825376</th>\n",
       "      <td>Woodend Farm</td>\n",
       "      <td>AquiMod</td>\n",
       "      <td>2005-02-17</td>\n",
       "      <td>85.0955</td>\n",
       "      <td>87.007742</td>\n",
       "      <td>53</td>\n",
       "      <td>0.470635</td>\n",
       "      <td>0.675</td>\n",
       "    </tr>\n",
       "    <tr>\n",
       "      <th>825377</th>\n",
       "      <td>Woodend Farm</td>\n",
       "      <td>AquiMod</td>\n",
       "      <td>2005-02-18</td>\n",
       "      <td>85.0862</td>\n",
       "      <td>87.020000</td>\n",
       "      <td>53</td>\n",
       "      <td>1.032489</td>\n",
       "      <td>0.675</td>\n",
       "    </tr>\n",
       "  </tbody>\n",
       "</table>\n",
       "<p>825378 rows × 8 columns</p>\n",
       "</div>"
      ],
      "text/plain": [
       "              Borehole    Model       Date      Sim        Obs  bhid  \\\n",
       "0       Allington No 2  AquiMod 2006-09-21  72.5336  67.997000     0   \n",
       "1       Allington No 2  AquiMod 2006-09-22  72.4902  67.933000     0   \n",
       "2       Allington No 2  AquiMod 2006-09-23  72.4493  67.903000     0   \n",
       "3       Allington No 2  AquiMod 2006-09-24  72.4086  67.859000     0   \n",
       "4       Allington No 2  AquiMod 2006-09-25  72.3679  67.754000     0   \n",
       "...                ...      ...        ...      ...        ...   ...   \n",
       "825373    Woodend Farm  AquiMod 2005-02-14  85.1202  86.970968    53   \n",
       "825374    Woodend Farm  AquiMod 2005-02-15  85.1124  86.983226    53   \n",
       "825375    Woodend Farm  AquiMod 2005-02-16  85.1042  86.995484    53   \n",
       "825376    Woodend Farm  AquiMod 2005-02-17  85.0955  87.007742    53   \n",
       "825377    Woodend Farm  AquiMod 2005-02-18  85.0862  87.020000    53   \n",
       "\n",
       "        precipwsnow    PET  \n",
       "0          0.156802  2.210  \n",
       "1          8.686279  2.210  \n",
       "2         12.740111  2.210  \n",
       "3          0.284288  2.210  \n",
       "4          0.002568  2.210  \n",
       "...             ...    ...  \n",
       "825373     0.002877  0.675  \n",
       "825374     0.000412  0.675  \n",
       "825375     0.008233  0.675  \n",
       "825376     0.470635  0.675  \n",
       "825377     1.032489  0.675  \n",
       "\n",
       "[825378 rows x 8 columns]"
      ]
     },
     "execution_count": 5,
     "metadata": {},
     "output_type": "execute_result"
    }
   ],
   "source": [
    "# Load in observed groundwater and meteorological data\n",
    "gwl_list = load_data(\"../data_processed/\", \"AquiMod_\")\n",
    "met_list = load_data(\"../data_processed/\", \"ukcp18_\")\n",
    "# Generate incremental borehole_id\n",
    "for i, df in enumerate(gwl_list):\n",
    "    df[\"bhid\"] = i\n",
    "    \n",
    "\n",
    "num_boreholes = df_gwl[\"bhid\"].max() + 1\n",
    "num_training = num_boreholes - num_validation\n",
    "# Merge data\n",
    "df_data = pd.merge(left=df_gwl, right=df_met, on=[\"Borehole\", \"Model\", \"Date\"], how=\"inner\").dropna().reset_index(drop=True)\n",
    "# Save memory\n",
    "del df_gwl\n",
    "del df_met\n",
    "df_data"
   ]
  },
  {
   "cell_type": "code",
   "execution_count": 12,
   "metadata": {},
   "outputs": [],
   "source": [
    "# Create column for mean monthly observed GWL\n",
    "\n",
    "# Step 1: Group by \"Name\" column\n",
    "grouped_by_name = df_data.set_index(\"Date\").groupby(\"Borehole\")\n",
    "\n",
    "# Step 2: Group by months from \"Date\" column and calculate average of \"Obs\"\n",
    "monthly_averages = grouped_by_name[\"Obs\"].resample(\"M\").mean()"
   ]
  },
  {
   "cell_type": "code",
   "execution_count": 13,
   "metadata": {},
   "outputs": [
    {
     "data": {
      "text/plain": [
       "Borehole        Date      \n",
       "Allington No 2  2006-09-30    67.793900\n",
       "                2006-10-31    67.212871\n",
       "                2006-11-30    67.283733\n",
       "                2006-12-31    69.694290\n",
       "                2007-01-31    72.720871\n",
       "                                ...    \n",
       "Woodend Farm    2004-10-31    86.882028\n",
       "                2004-11-30    86.585452\n",
       "                2004-12-31    86.424899\n",
       "                2005-01-31    86.637098\n",
       "                2005-02-28    86.915806\n",
       "Name: Obs, Length: 27149, dtype: float64"
      ]
     },
     "execution_count": 13,
     "metadata": {},
     "output_type": "execute_result"
    }
   ],
   "source": [
    "monthly_averages"
   ]
  },
  {
   "cell_type": "code",
   "execution_count": 11,
   "metadata": {},
   "outputs": [
    {
     "data": {
      "text/html": [
       "<div>\n",
       "<style scoped>\n",
       "    .dataframe tbody tr th:only-of-type {\n",
       "        vertical-align: middle;\n",
       "    }\n",
       "\n",
       "    .dataframe tbody tr th {\n",
       "        vertical-align: top;\n",
       "    }\n",
       "\n",
       "    .dataframe thead th {\n",
       "        text-align: right;\n",
       "    }\n",
       "</style>\n",
       "<table border=\"1\" class=\"dataframe\">\n",
       "  <thead>\n",
       "    <tr style=\"text-align: right;\">\n",
       "      <th></th>\n",
       "      <th>Borehole</th>\n",
       "      <th>Model</th>\n",
       "      <th>Date</th>\n",
       "      <th>Sim</th>\n",
       "      <th>Obs</th>\n",
       "      <th>bhid</th>\n",
       "      <th>precipwsnow</th>\n",
       "      <th>PET</th>\n",
       "      <th>MonthlyAvgObs</th>\n",
       "    </tr>\n",
       "  </thead>\n",
       "  <tbody>\n",
       "    <tr>\n",
       "      <th>0</th>\n",
       "      <td>Allington No 2</td>\n",
       "      <td>AquiMod</td>\n",
       "      <td>2006-09-21</td>\n",
       "      <td>72.5336</td>\n",
       "      <td>67.997000</td>\n",
       "      <td>0</td>\n",
       "      <td>0.156802</td>\n",
       "      <td>2.210</td>\n",
       "      <td>67.793900</td>\n",
       "    </tr>\n",
       "    <tr>\n",
       "      <th>1</th>\n",
       "      <td>Allington No 2</td>\n",
       "      <td>AquiMod</td>\n",
       "      <td>2006-09-22</td>\n",
       "      <td>72.4902</td>\n",
       "      <td>67.933000</td>\n",
       "      <td>0</td>\n",
       "      <td>8.686279</td>\n",
       "      <td>2.210</td>\n",
       "      <td>67.212871</td>\n",
       "    </tr>\n",
       "    <tr>\n",
       "      <th>2</th>\n",
       "      <td>Allington No 2</td>\n",
       "      <td>AquiMod</td>\n",
       "      <td>2006-09-23</td>\n",
       "      <td>72.4493</td>\n",
       "      <td>67.903000</td>\n",
       "      <td>0</td>\n",
       "      <td>12.740111</td>\n",
       "      <td>2.210</td>\n",
       "      <td>67.283733</td>\n",
       "    </tr>\n",
       "    <tr>\n",
       "      <th>3</th>\n",
       "      <td>Allington No 2</td>\n",
       "      <td>AquiMod</td>\n",
       "      <td>2006-09-24</td>\n",
       "      <td>72.4086</td>\n",
       "      <td>67.859000</td>\n",
       "      <td>0</td>\n",
       "      <td>0.284288</td>\n",
       "      <td>2.210</td>\n",
       "      <td>69.694290</td>\n",
       "    </tr>\n",
       "    <tr>\n",
       "      <th>4</th>\n",
       "      <td>Allington No 2</td>\n",
       "      <td>AquiMod</td>\n",
       "      <td>2006-09-25</td>\n",
       "      <td>72.3679</td>\n",
       "      <td>67.754000</td>\n",
       "      <td>0</td>\n",
       "      <td>0.002568</td>\n",
       "      <td>2.210</td>\n",
       "      <td>72.720871</td>\n",
       "    </tr>\n",
       "    <tr>\n",
       "      <th>...</th>\n",
       "      <td>...</td>\n",
       "      <td>...</td>\n",
       "      <td>...</td>\n",
       "      <td>...</td>\n",
       "      <td>...</td>\n",
       "      <td>...</td>\n",
       "      <td>...</td>\n",
       "      <td>...</td>\n",
       "      <td>...</td>\n",
       "    </tr>\n",
       "    <tr>\n",
       "      <th>825373</th>\n",
       "      <td>Woodend Farm</td>\n",
       "      <td>AquiMod</td>\n",
       "      <td>2005-02-14</td>\n",
       "      <td>85.1202</td>\n",
       "      <td>86.970968</td>\n",
       "      <td>53</td>\n",
       "      <td>0.002877</td>\n",
       "      <td>0.675</td>\n",
       "      <td>NaN</td>\n",
       "    </tr>\n",
       "    <tr>\n",
       "      <th>825374</th>\n",
       "      <td>Woodend Farm</td>\n",
       "      <td>AquiMod</td>\n",
       "      <td>2005-02-15</td>\n",
       "      <td>85.1124</td>\n",
       "      <td>86.983226</td>\n",
       "      <td>53</td>\n",
       "      <td>0.000412</td>\n",
       "      <td>0.675</td>\n",
       "      <td>NaN</td>\n",
       "    </tr>\n",
       "    <tr>\n",
       "      <th>825375</th>\n",
       "      <td>Woodend Farm</td>\n",
       "      <td>AquiMod</td>\n",
       "      <td>2005-02-16</td>\n",
       "      <td>85.1042</td>\n",
       "      <td>86.995484</td>\n",
       "      <td>53</td>\n",
       "      <td>0.008233</td>\n",
       "      <td>0.675</td>\n",
       "      <td>NaN</td>\n",
       "    </tr>\n",
       "    <tr>\n",
       "      <th>825376</th>\n",
       "      <td>Woodend Farm</td>\n",
       "      <td>AquiMod</td>\n",
       "      <td>2005-02-17</td>\n",
       "      <td>85.0955</td>\n",
       "      <td>87.007742</td>\n",
       "      <td>53</td>\n",
       "      <td>0.470635</td>\n",
       "      <td>0.675</td>\n",
       "      <td>NaN</td>\n",
       "    </tr>\n",
       "    <tr>\n",
       "      <th>825377</th>\n",
       "      <td>Woodend Farm</td>\n",
       "      <td>AquiMod</td>\n",
       "      <td>2005-02-18</td>\n",
       "      <td>85.0862</td>\n",
       "      <td>87.020000</td>\n",
       "      <td>53</td>\n",
       "      <td>1.032489</td>\n",
       "      <td>0.675</td>\n",
       "      <td>NaN</td>\n",
       "    </tr>\n",
       "  </tbody>\n",
       "</table>\n",
       "<p>825378 rows × 9 columns</p>\n",
       "</div>"
      ],
      "text/plain": [
       "              Borehole    Model       Date      Sim        Obs  bhid  \\\n",
       "0       Allington No 2  AquiMod 2006-09-21  72.5336  67.997000     0   \n",
       "1       Allington No 2  AquiMod 2006-09-22  72.4902  67.933000     0   \n",
       "2       Allington No 2  AquiMod 2006-09-23  72.4493  67.903000     0   \n",
       "3       Allington No 2  AquiMod 2006-09-24  72.4086  67.859000     0   \n",
       "4       Allington No 2  AquiMod 2006-09-25  72.3679  67.754000     0   \n",
       "...                ...      ...        ...      ...        ...   ...   \n",
       "825373    Woodend Farm  AquiMod 2005-02-14  85.1202  86.970968    53   \n",
       "825374    Woodend Farm  AquiMod 2005-02-15  85.1124  86.983226    53   \n",
       "825375    Woodend Farm  AquiMod 2005-02-16  85.1042  86.995484    53   \n",
       "825376    Woodend Farm  AquiMod 2005-02-17  85.0955  87.007742    53   \n",
       "825377    Woodend Farm  AquiMod 2005-02-18  85.0862  87.020000    53   \n",
       "\n",
       "        precipwsnow    PET  MonthlyAvgObs  \n",
       "0          0.156802  2.210      67.793900  \n",
       "1          8.686279  2.210      67.212871  \n",
       "2         12.740111  2.210      67.283733  \n",
       "3          0.284288  2.210      69.694290  \n",
       "4          0.002568  2.210      72.720871  \n",
       "...             ...    ...            ...  \n",
       "825373     0.002877  0.675            NaN  \n",
       "825374     0.000412  0.675            NaN  \n",
       "825375     0.008233  0.675            NaN  \n",
       "825376     0.470635  0.675            NaN  \n",
       "825377     1.032489  0.675            NaN  \n",
       "\n",
       "[825378 rows x 9 columns]"
      ]
     },
     "execution_count": 11,
     "metadata": {},
     "output_type": "execute_result"
    }
   ],
   "source": [
    "# Create column for mean monthly observed GWL\n",
    "\n",
    "# Step 1: Group by \"Name\" column\n",
    "grouped_by_name = df_data.set_index(\"Date\").groupby(\"Borehole\")\n",
    "\n",
    "# Step 2: Group by months from \"Date\" column and calculate average of \"Obs\"\n",
    "monthly_averages = grouped_by_name[\"Obs\"].resample(\"M\").mean()\n",
    "\n",
    "# Step 3: Save results to a new column\n",
    "df_data[\"MonthlyAvgObs\"] = monthly_averages.reset_index(level=0, drop=True)\n",
    "\n",
    "# Now 'df' contains the monthly average observations in the \"MonthlyAvgObs\" column\n",
    "df_data"
   ]
  },
  {
   "cell_type": "code",
   "execution_count": 33,
   "metadata": {},
   "outputs": [],
   "source": [
    "# Split data into separate dataframes for training, testing and validation\n",
    "# Fit GWL scalers\n",
    "# Transform GWL data with scalers\n",
    "# Create sequences\n",
    "# I have just realised that the validation data needs to include the final seq_length values from the training data\n",
    "\n",
    "df_train_test = df_data.query(f\"bhid < {num_training}\")\n",
    "# df_validation = df_data.query(f\"bhid >= {num_training}\")\n",
    "train_list = []\n",
    "test_list = []\n",
    "# Loop through training boreholes\n",
    "for i in range(num_training):\n",
    "    # Slice dataframe to borehole\n",
    "    df = df_train_test.query(\"bhid == @i\").copy()\n",
    "    # Split data into training and testing\n",
    "    train_size = int((len(df) - seq_length) * train_split)\n",
    "    train_list.append(df.iloc[:train_size])\n",
    "    test_list.append(df.iloc[train_size:])\n",
    "\n",
    "df_train = pd.concat(train_list)\n",
    "df_test = pd.concat(test_list)"
   ]
  },
  {
   "cell_type": "markdown",
   "metadata": {},
   "source": [
    "StandardScaler subtracts the mean and scales by the variance. To prevent data leakage from the testing or validation datasets into training, the scaler is fit using only the training dataset. The testing and validation data are scaled using the pre-fitted scalers."
   ]
  },
  {
   "cell_type": "code",
   "execution_count": 34,
   "metadata": {},
   "outputs": [],
   "source": [
    "# Initialise scalers\n",
    "precip_scaler = StandardScaler()\n",
    "pet_scaler = StandardScaler()\n",
    "gwl_scalers = [StandardScaler() for _ in range(num_boreholes)]\n",
    "\n",
    "# Fit and transform borehole-independent scalers\n",
    "precip_train = precip_scaler.fit_transform(df_train[\"precipwsnow\"].values.reshape(-1, 1))\n",
    "precip_test = precip_scaler.transform(df_test[\"precipwsnow\"].values.reshape(-1, 1))\n",
    "pet_train = pet_scaler.fit_transform(df_train[\"PET\"].values.reshape(-1, 1))\n",
    "pet_test = pet_scaler.transform(df_test[\"PET\"].values.reshape(-1, 1))\n",
    "# Extract bhid data\n",
    "bhid_train = df_train[\"bhid\"].values.reshape(-1, 1)\n",
    "bhid_test = df_test[\"bhid\"].values.reshape(-1, 1)\n",
    "\n",
    "# Fit and transform borehole scalers\n",
    "gwl_train = []\n",
    "gwl_test = []\n",
    "\n",
    "for i in range(num_training):\n",
    "    scaler = gwl_scalers[i]\n",
    "    gwl_train.append(scaler.fit_transform(df_train[df_train[\"bhid\"] == i][\"Obs\"].values.reshape(-1, 1)))\n",
    "    gwl_test.append(scaler.transform(df_test[df_test[\"bhid\"] == i][\"Obs\"].values.reshape(-1, 1)))\n",
    "\n",
    "gwl_train = np.vstack(gwl_train)\n",
    "gwl_test = np.vstack(gwl_test)"
   ]
  },
  {
   "cell_type": "code",
   "execution_count": 35,
   "metadata": {},
   "outputs": [],
   "source": [
    "# Add the final (seq_length - 1) number of timesteps to the testing data to generate continous sequences\n",
    "# I need to confirm this but I think we need to add (seq_length - 1) instead of (seq_length)\n",
    "# This is because prepending the full seq_length would create an entire timestep within the training data\n",
    "# Ultimately, it is only one day and doesn't actually matter much\n",
    "precip_test = np.concatenate((precip_train[-(seq_length - 1):], precip_test), axis=0)\n",
    "pet_test = np.concatenate((pet_train[-(seq_length - 1):], pet_test), axis=0)\n",
    "bhid_test = np.concatenate((bhid_train[-(seq_length - 1):], bhid_test), axis=0)\n",
    "gwl_test = np.concatenate((gwl_train[-(seq_length - 1):], gwl_test), axis=0)"
   ]
  },
  {
   "cell_type": "code",
   "execution_count": 36,
   "metadata": {},
   "outputs": [
    {
     "name": "stdout",
     "output_type": "stream",
     "text": [
      "(575170, 1)\n",
      "(181046, 1)\n",
      "(575170, 1)\n",
      "(181046, 1)\n",
      "(575170, 1)\n",
      "(181046, 1)\n",
      "(575170, 1)\n",
      "(181046, 1)\n"
     ]
    }
   ],
   "source": [
    "print(precip_train.shape)\n",
    "print(precip_test.shape)\n",
    "print(pet_train.shape)\n",
    "print(pet_test.shape)\n",
    "print(bhid_train.shape)\n",
    "print(bhid_test.shape)\n",
    "print(gwl_train.shape)\n",
    "print(gwl_test.shape)"
   ]
  },
  {
   "cell_type": "code",
   "execution_count": 37,
   "metadata": {},
   "outputs": [],
   "source": [
    "def create_sequences(data: np.ndarray, seq_length: int) -> np.ndarray:\n",
    "    \"\"\"\n",
    "    Transforms 2D time-series data into an array of sequences of a specified length.\n",
    "\n",
    "    Parameters:\n",
    "    data (np.ndarray): A 2D numpy array where each row is a time step and each column is a feature.\n",
    "    seq_length (int): The number of time steps to include in each output sequence.\n",
    "\n",
    "    Returns:\n",
    "    np.ndarray: A 3D numpy array of shape (num_samples - seq_length + 1, seq_length, num_features).\n",
    "    \"\"\"\n",
    "\n",
    "    xs = []  # Initialise an empty list to store sequences\n",
    "\n",
    "    # For each possible sequence in the data...\n",
    "    for i in range(len(data) - seq_length + 1):\n",
    "        # Extract a sequence of length `seq_length`\n",
    "        x = data[i: (i + seq_length)]\n",
    "        # Append the sequence to the list\n",
    "        xs.append(x)\n",
    "\n",
    "    # Convert the list of sequences into a 3D numpy array\n",
    "    return np.array(xs)"
   ]
  },
  {
   "cell_type": "code",
   "execution_count": 38,
   "metadata": {},
   "outputs": [],
   "source": [
    "# create_sequences has to be called individually on each timeseries from each borehole\n",
    "# Initialise lists to hold dynamic and static data for each borehole for train and test periods\n",
    "dynamic_train_list = []\n",
    "dynamic_test_list = []\n",
    "static_train_list = []\n",
    "static_test_list = []\n",
    "gwl_train_list = []\n",
    "gwl_test_list = []\n",
    "\n",
    "# Loop through training boreholes in each of the data types and call create_sequences\n",
    "for i in range(num_training):\n",
    "    train_mask = (bhid_train == i)\n",
    "    test_mask = (bhid_test == i)\n",
    "    dynamic_train_list.append(create_sequences(np.column_stack((precip_train[train_mask], pet_train[train_mask])), seq_length))\n",
    "    dynamic_test_list.append(create_sequences(np.column_stack((precip_test[test_mask], pet_test[test_mask])), seq_length))\n",
    "    static_train_list.append(create_sequences(bhid_train[train_mask], seq_length))\n",
    "    static_test_list.append(create_sequences(bhid_test[test_mask], seq_length))\n",
    "    gwl_train_list.append(gwl_train[train_mask][seq_length - 1:].reshape(-1, 1))\n",
    "    gwl_test_list.append(gwl_test[test_mask][seq_length - 1:].reshape(-1, 1))\n",
    "\n",
    "dynamic_train_arr = np.concatenate(dynamic_train_list)\n",
    "dynamic_test_arr = np.concatenate(dynamic_test_list)\n",
    "static_train_arr = np.concatenate(static_train_list)\n",
    "static_test_arr = np.concatenate(static_test_list)\n",
    "gwl_train_arr = np.concatenate(gwl_train_list)\n",
    "gwl_test_arr = np.concatenate(gwl_test_list)\n",
    "\n",
    "# Save memory\n",
    "del dynamic_train_list\n",
    "del dynamic_test_list\n",
    "del static_train_list\n",
    "del static_test_list\n",
    "del gwl_train_list\n",
    "del gwl_test_list\n"
   ]
  },
  {
   "cell_type": "code",
   "execution_count": 39,
   "metadata": {},
   "outputs": [
    {
     "name": "stdout",
     "output_type": "stream",
     "text": [
      "(538720, 730, 2)\n",
      "(144596, 730, 2)\n",
      "(538720, 730)\n",
      "(144596, 730)\n",
      "(538720, 1)\n",
      "(144596, 1)\n"
     ]
    }
   ],
   "source": [
    "print(dynamic_train_arr.shape)\n",
    "print(dynamic_test_arr.shape)\n",
    "print(static_train_arr.shape)\n",
    "print(static_test_arr.shape)\n",
    "print(gwl_train_arr.shape)\n",
    "print(gwl_test_arr.shape)"
   ]
  },
  {
   "cell_type": "code",
   "execution_count": 40,
   "metadata": {},
   "outputs": [],
   "source": [
    "dynamic_train_tensor = torch.from_numpy(dynamic_train_arr).float()\n",
    "dynamic_test_tensor = torch.from_numpy(dynamic_test_arr).float()\n",
    "static_train_tensor = torch.from_numpy(static_train_arr)\n",
    "static_test_tensor = torch.from_numpy(static_test_arr)\n",
    "gwl_train_tensor = torch.from_numpy(gwl_train_arr).float()\n",
    "gwl_test_tensor = torch.from_numpy(gwl_test_arr).float()"
   ]
  },
  {
   "cell_type": "code",
   "execution_count": 41,
   "metadata": {},
   "outputs": [
    {
     "name": "stdout",
     "output_type": "stream",
     "text": [
      "torch.float32\n",
      "torch.float32\n",
      "torch.int32\n",
      "torch.int32\n",
      "torch.float32\n",
      "torch.float32\n",
      "torch.Size([538720, 730, 2])\n",
      "torch.Size([144596, 730, 2])\n",
      "torch.Size([538720, 730])\n",
      "torch.Size([144596, 730])\n",
      "torch.Size([538720, 1])\n",
      "torch.Size([144596, 1])\n"
     ]
    }
   ],
   "source": [
    "print(dynamic_train_tensor.dtype)\n",
    "print(dynamic_test_tensor.dtype)\n",
    "print(static_train_tensor.dtype)\n",
    "print(static_test_tensor.dtype)\n",
    "print(gwl_train_tensor.dtype)\n",
    "print(gwl_test_tensor.dtype)\n",
    "print(dynamic_train_tensor.shape)\n",
    "print(dynamic_test_tensor.shape)\n",
    "print(static_train_tensor.shape)\n",
    "print(static_test_tensor.shape)\n",
    "print(gwl_train_tensor.shape)\n",
    "print(gwl_test_tensor.shape)"
   ]
  },
  {
   "cell_type": "code",
   "execution_count": 42,
   "metadata": {},
   "outputs": [],
   "source": [
    "# Define the dataset class\n",
    "class MultiTimeSeriesDataset(Dataset):\n",
    "    \"\"\"Pytorch dataset class for timeseries sequences data with both dynamic and static features.\"\"\"\n",
    "    def __init__(\n",
    "            self,\n",
    "            dynamic: torch.Tensor,\n",
    "            static: torch.Tensor,\n",
    "            target: torch.Tensor\n",
    "        ):\n",
    "        self.dynamic = dynamic\n",
    "        self.static = static\n",
    "        self.target = target\n",
    "\n",
    "    def __len__(self):\n",
    "        return len(self.dynamic)\n",
    "\n",
    "    def __getitem__(self, i):\n",
    "        return self.dynamic[i], self.static[i], self.target[i]"
   ]
  },
  {
   "cell_type": "code",
   "execution_count": 43,
   "metadata": {},
   "outputs": [],
   "source": [
    "# Instantiate datasets and dataloaders\n",
    "train_dataset = MultiTimeSeriesDataset(dynamic_train_tensor, static_train_tensor, gwl_train_tensor)\n",
    "test_dataset = MultiTimeSeriesDataset(dynamic_test_tensor, static_test_tensor, gwl_test_tensor)\n",
    "\n",
    "train_loader = DataLoader(train_dataset, batch_size=batch_size, shuffle=True)\n",
    "test_loader = DataLoader(test_dataset, batch_size=batch_size, shuffle=False)"
   ]
  },
  {
   "cell_type": "code",
   "execution_count": 44,
   "metadata": {},
   "outputs": [],
   "source": [
    "# Define the LSTM model\n",
    "class LSTM(nn.Module):\n",
    "    def __init__(\n",
    "            self,\n",
    "            dynamic_size: int,\n",
    "            static_len: int,\n",
    "            embedding_size: int,\n",
    "            hidden_size: int,\n",
    "            num_layers: int,\n",
    "            output_size: int,\n",
    "        ):\n",
    "        super().__init__()\n",
    "        self.hidden_size = hidden_size\n",
    "        self.num_layers = num_layers\n",
    "        self.embedding = nn.Embedding(static_len, embedding_size, max_norm=1)\n",
    "        self.lstm = nn.LSTM(dynamic_size + embedding_size, hidden_size, num_layers, batch_first=True)\n",
    "        self.fc = nn.Linear(hidden_size, output_size)\n",
    "\n",
    "    def forward(self, dynamic: torch.Tensor, static: torch.Tensor):\n",
    "        # Pass catchment identifiers through embedding layer\n",
    "        static_embeddings = self.embedding(static)\n",
    "        # Concatenate catchment embeddings with other features\n",
    "        x = torch.cat((dynamic, static_embeddings), dim=-1)\n",
    "        # Initialise hidden state with zeros\n",
    "        h0 = torch.zeros(self.num_layers, x.size(0), self.hidden_size).to(x.device)\n",
    "        # Initialise cell state with zeros\n",
    "        c0 = torch.zeros(self.num_layers, x.size(0), self.hidden_size).to(x.device)\n",
    "        # Forward propagate LSTM using input data, x, and initial states, h0 and c0\n",
    "        # x is a batch of input sequences of features\n",
    "        # h contains the updated hidden states from each timestep\n",
    "        # c contains the update cell states from each timestep\n",
    "        h, c = self.lstm(x, (h0, c0))\n",
    "        # The last hidden state from the output sequence is pass to the fully connected layer\n",
    "        out = self.fc(h[:, -1, :])\n",
    "        return out"
   ]
  },
  {
   "cell_type": "code",
   "execution_count": 45,
   "metadata": {},
   "outputs": [],
   "source": [
    "# Define the training function\n",
    "def train_epoch(model: LSTM, criterion: nn.Module, optimiser: nn.Module):\n",
    "    model.train()\n",
    "    running_loss = 0\n",
    "    for batch in train_loader:\n",
    "        # batch is a list of three elements, the dynamic, static and the target\n",
    "        dynamic_batch, static_batch, target_batch = (\n",
    "            batch[0].to(device), batch[1].to(device), batch[2].to(device)\n",
    "        )\n",
    "        # Forward propagate the model and get outputs\n",
    "        output = model(dynamic_batch, static_batch)\n",
    "        # Calculate loss between outputs and the target\n",
    "        loss = criterion(output, target_batch)\n",
    "        # Add loss to the running loss\n",
    "        running_loss += loss.item()\n",
    "        # Reset the gradients\n",
    "        optimiser.zero_grad()\n",
    "        # This, rather unpythonically, computes the gradients for all model parameters\n",
    "        loss.backward()\n",
    "        # Take a step in the gradient direction\n",
    "        optimiser.step()\n",
    "    # Return the average loss for each batch across the epoch\n",
    "    return running_loss / len(train_loader)"
   ]
  },
  {
   "cell_type": "code",
   "execution_count": 46,
   "metadata": {},
   "outputs": [],
   "source": [
    "# Define the testing function\n",
    "def test_epoch(model: LSTM, criterion: nn.Module):\n",
    "    model.eval()\n",
    "    running_loss = 0\n",
    "    for batch in test_loader:\n",
    "        # batch is a list of three elements, the dynamic, static and the target\n",
    "        dynamic_batch, static_batch, target_batch = (\n",
    "            batch[0].to(device), batch[1].to(device), batch[2].to(device)\n",
    "        )\n",
    "        with torch.no_grad():\n",
    "            # Forward propagate the model and get outputs\n",
    "            output = model(dynamic_batch, static_batch)\n",
    "            # Calculate loss between outputs and the target\n",
    "            loss = criterion(output, target_batch)\n",
    "            # Add loss to the running loss\n",
    "            running_loss += loss.item()\n",
    "    # Return the average loss for each batch across the epoch\n",
    "    return running_loss / len(test_loader)"
   ]
  },
  {
   "cell_type": "code",
   "execution_count": 47,
   "metadata": {},
   "outputs": [
    {
     "name": "stdout",
     "output_type": "stream",
     "text": [
      "The model has 2794 parameters\n"
     ]
    }
   ],
   "source": [
    "# Initialise the model, loss function, and optimiser\n",
    "model = LSTM(\n",
    "    dynamic_size=dynamic_train_tensor.size()[-1],\n",
    "    static_len=num_boreholes,\n",
    "    embedding_size=embedding_size,\n",
    "    hidden_size=hidden_size,\n",
    "    num_layers=num_layers,\n",
    "    output_size=gwl_train_tensor.size()[-1],\n",
    ").to(device)\n",
    "optimiser = torch.optim.Adam(model.parameters(), lr=lr)\n",
    "scheduler = ReduceLROnPlateau(optimiser, verbose=True)\n",
    "criterion = nn.MSELoss()\n",
    "\n",
    "def count_parameters(model: LSTM) -> int:\n",
    "    return sum(p.numel() for p in model.parameters() if p.requires_grad)\n",
    "\n",
    "\n",
    "print(f\"The model has {count_parameters(model)} parameters\")"
   ]
  },
  {
   "cell_type": "code",
   "execution_count": 48,
   "metadata": {},
   "outputs": [],
   "source": [
    "# Initialise lists for plotting\n",
    "train_loss = []\n",
    "test_loss = []"
   ]
  },
  {
   "cell_type": "code",
   "execution_count": 53,
   "metadata": {},
   "outputs": [],
   "source": [
    "epochs = 50"
   ]
  },
  {
   "cell_type": "code",
   "execution_count": 56,
   "metadata": {},
   "outputs": [
    {
     "name": "stdout",
     "output_type": "stream",
     "text": [
      "Epoch 1 Train: 0.16547474, Test: 0.22315127\n",
      "Epoch 2 Train: 0.16529615, Test: 0.2252531\n",
      "Epoch 3 Train: 0.16465762, Test: 0.21967656\n",
      "Epoch 4 Train: 0.16474813, Test: 0.22470957\n",
      "Epoch 5 Train: 0.16419491, Test: 0.21992789\n",
      "Epoch 6 Train: 0.16436234, Test: 0.21416815\n",
      "Epoch 7 Train: 0.16366972, Test: 0.21859159\n",
      "Epoch 8 Train: 0.16369924, Test: 0.22433989\n"
     ]
    }
   ],
   "source": [
    "for epoch in range(epochs):\n",
    "    train_loss.append(train_epoch(model, criterion, optimiser))\n",
    "    test_loss.append(test_epoch(model, criterion))\n",
    "    scheduler.step(train_loss[-1])\n",
    "\n",
    "    # Calculate NSE based on unscaled data\n",
    "    print(f\"Epoch {epoch + 1} Train: {round(train_loss[-1], 8)}, Test: {round(test_loss[-1], 8)}\")"
   ]
  },
  {
   "cell_type": "code",
   "execution_count": 55,
   "metadata": {},
   "outputs": [
    {
     "data": {
      "application/vnd.plotly.v1+json": {
       "config": {
        "plotlyServerURL": "https://plot.ly"
       },
       "data": [
        {
         "hovertemplate": "variable=0<br>index=%{x}<br>value=%{y}<extra></extra>",
         "legendgroup": "0",
         "line": {
          "color": "#636efa",
          "dash": "solid"
         },
         "marker": {
          "symbol": "circle"
         },
         "mode": "lines",
         "name": "0",
         "orientation": "v",
         "showlegend": true,
         "type": "scatter",
         "x": [
          0,
          1,
          2,
          3,
          4,
          5,
          6,
          7,
          8,
          9,
          10,
          11,
          12,
          13,
          14,
          15,
          16,
          17,
          18,
          19,
          20,
          21,
          22,
          23,
          24,
          25,
          26,
          27,
          28,
          29,
          30,
          31,
          32,
          33,
          34,
          35,
          36,
          37,
          38,
          39,
          40,
          41,
          42,
          43,
          44,
          45,
          46,
          47,
          48,
          49,
          50,
          51,
          52,
          53,
          54,
          55,
          56,
          57,
          58,
          59,
          60,
          61,
          62,
          63,
          64,
          65,
          66,
          67,
          68,
          69,
          70,
          71,
          72,
          73,
          74,
          75,
          76,
          77,
          78,
          79,
          80,
          81,
          82,
          83,
          84,
          85,
          86,
          87,
          88,
          89,
          90,
          91,
          92,
          93,
          94,
          95,
          96,
          97,
          98,
          99,
          100,
          101,
          102,
          103,
          104,
          105,
          106,
          107,
          108,
          109,
          110,
          111,
          112,
          113,
          114,
          115,
          116,
          117,
          118,
          119,
          120,
          121,
          122,
          123,
          124,
          125,
          126,
          127,
          128,
          129,
          130,
          131,
          132,
          133,
          134,
          135,
          136,
          137,
          138,
          139,
          140,
          141,
          142,
          143,
          144,
          145,
          146,
          147,
          148,
          149,
          150,
          151,
          152,
          153,
          154,
          155,
          156,
          157,
          158,
          159,
          160,
          161,
          162,
          163,
          164,
          165,
          166,
          167,
          168,
          169,
          170,
          171,
          172,
          173,
          174,
          175,
          176,
          177,
          178,
          179,
          180,
          181,
          182,
          183,
          184,
          185,
          186,
          187,
          188,
          189,
          190,
          191,
          192,
          193,
          194,
          195,
          196,
          197,
          198,
          199,
          200,
          201,
          202,
          203,
          204,
          205,
          206,
          207,
          208,
          209,
          210,
          211,
          212,
          213,
          214,
          215,
          216,
          217,
          218,
          219,
          220,
          221,
          222,
          223,
          224,
          225,
          226,
          227,
          228,
          229,
          230,
          231,
          232,
          233,
          234,
          235,
          236,
          237,
          238,
          239,
          240,
          241,
          242,
          243,
          244,
          245,
          246,
          247,
          248,
          249
         ],
         "xaxis": "x",
         "y": [
          1.019124907419326,
          0.9909883361143491,
          0.9510327136075055,
          0.911228828507158,
          0.8311791383755965,
          0.7994749227367122,
          0.7901511994975019,
          0.7665696982418143,
          0.7726564380744471,
          0.7722734524766718,
          0.7598037519346276,
          0.7302970981326198,
          0.7350984357813938,
          0.725777904985071,
          0.71641578078836,
          0.7241904969342188,
          0.7078585659789677,
          0.7052250147318682,
          0.7053943297915083,
          0.7046230297256173,
          0.6921522006576444,
          0.693398798293198,
          0.6765907618791176,
          0.6749618790428183,
          0.6871276233497395,
          0.6703510219328537,
          0.6680693761688805,
          0.6562879001765962,
          0.643465827163468,
          0.6552962642676018,
          0.6626875198464788,
          0.6447676940974121,
          0.63724183274923,
          0.6448531869696302,
          0.636839707579255,
          0.6212739302561834,
          0.6254287989843718,
          0.631373261058206,
          0.6113760366908505,
          0.6272666178933802,
          0.6080089184010696,
          0.5985270055101128,
          0.6122316637722968,
          0.5904132126063703,
          0.5876370584636446,
          0.5955059245893871,
          0.5945286740887652,
          0.5877324031402356,
          0.5673730930088818,
          0.5881670151907041,
          0.5726541270557631,
          0.5587105251218971,
          0.5392237118279946,
          0.5300910809950271,
          0.5266303710448437,
          0.6129782421466632,
          0.5399640121577699,
          0.5163685223202646,
          0.5284125533765085,
          0.5041250604623176,
          0.5023054180831311,
          0.49975146725420033,
          0.49185856845643783,
          0.48474752085048134,
          0.4830374955168703,
          0.4730603301796818,
          0.4632575196361723,
          0.5448297998334608,
          0.47340427830121906,
          0.45681025349629684,
          0.45742350847859214,
          0.44745339746149176,
          0.44387869654331225,
          0.4373997593084518,
          0.4340540865208009,
          0.41903517635119947,
          0.4193285490542735,
          0.4067293534025281,
          0.39465185490428895,
          0.3859777313861412,
          0.3761834885150279,
          0.36716947757620416,
          0.35603335160135885,
          0.3471260977606488,
          0.3380297620242138,
          0.33163813597116715,
          0.32596435341966346,
          0.31988660834114097,
          0.31495748923035427,
          0.310731407909425,
          0.3060906908535889,
          0.30140277136255195,
          0.2937446948271758,
          0.2874971743662473,
          0.2815827593447929,
          0.2785204690151405,
          0.27537342458821884,
          0.2727444052894344,
          0.2701634351033204,
          0.2679231768404996,
          0.2659121781502694,
          0.2643445151285795,
          0.2626492360435207,
          0.26132749993237336,
          0.25966432900057446,
          0.2585244416652808,
          0.2573691630861585,
          0.25697564679672913,
          0.2554412055247643,
          0.25446316571543587,
          0.25400451470983676,
          0.25260347785942916,
          0.2519563225089994,
          0.2508656462231706,
          0.25014168469824344,
          0.24951592411807008,
          0.24892882940492966,
          0.24766545061372283,
          0.24726735320073134,
          0.24648499559586318,
          0.24560464137469942,
          0.2449217082937898,
          0.24440629841142458,
          0.24403838902457148,
          0.24305874400781882,
          0.24243471019345017,
          0.24197252908436775,
          0.24139064813611175,
          0.24064954352571302,
          0.24031804470877816,
          0.23957761826395196,
          0.23930065168274772,
          0.23864440987875432,
          0.23822971264294862,
          0.237411777419016,
          0.2372848818897635,
          0.2368353232953623,
          0.23556162571182504,
          0.23576607066228744,
          0.23478714554284938,
          0.23434231010710524,
          0.23424117970443972,
          0.23299748858778338,
          0.23295667732146844,
          0.2323946842299341,
          0.2319373054410431,
          0.23140000520098922,
          0.23087323307708005,
          0.23013091609518752,
          0.22946489580393065,
          0.22873502396620238,
          0.22826598944091162,
          0.2276177617870731,
          0.22639181510901746,
          0.22503781914427975,
          0.22299874284554977,
          0.21946111312958588,
          0.21653095432552744,
          0.21408115208488585,
          0.21340856072117007,
          0.21187339434426733,
          0.2116152090139878,
          0.2113491704887361,
          0.2104047024295314,
          0.21021372352966441,
          0.20943829925254992,
          0.20901487561089588,
          0.20866735050311455,
          0.20845508848556651,
          0.20778397687932817,
          0.2071550817344716,
          0.20668910732466272,
          0.20658167109869824,
          0.20606444502941,
          0.20576838980599574,
          0.20462442524129734,
          0.19525794561771925,
          0.19300487648840756,
          0.19255206954699974,
          0.19234533125405526,
          0.19169965236388495,
          0.19157600387265766,
          0.1909990423878147,
          0.19014350922755252,
          0.189899006842548,
          0.18934069222930716,
          0.1890625104463791,
          0.18849387167752185,
          0.18803619411539602,
          0.1879521183039841,
          0.18716009104127332,
          0.18710079145284347,
          0.18637956008102818,
          0.18592019397535442,
          0.18496135001735017,
          0.185035000584404,
          0.18472192164047038,
          0.18436406300193564,
          0.18380347795692492,
          0.18334396981615625,
          0.18337182410535424,
          0.18293308715025583,
          0.18218251975060415,
          0.18202751615250098,
          0.18132913952511148,
          0.18114293435303688,
          0.1808704427900704,
          0.1802154936724239,
          0.18011745077479147,
          0.17896203835409025,
          0.1795166482952585,
          0.1789041693903442,
          0.17832720634887475,
          0.17795680562372107,
          0.17767292210179517,
          0.17744909536804568,
          0.17684695352459678,
          0.17640024023829248,
          0.17616926234105826,
          0.17574828222804373,
          0.17589507332639476,
          0.17516319711267211,
          0.17473428053931747,
          0.1744092772135481,
          0.17393491686748982,
          0.1736696482355665,
          0.1735320486630696,
          0.17293552427436779,
          0.17268062762187303,
          0.1726577820261659,
          0.17191448302520307,
          0.17156992597259574,
          0.17123379005722397,
          0.17097609633790348,
          0.17060111383823476,
          0.17030497443670334,
          0.16972101211604457,
          0.16962183316407153,
          0.16932027020685353,
          0.1688472710740872,
          0.1687513887811477,
          0.1681785871472001,
          0.16792356473343326,
          0.16745060854940785,
          0.167182195666339,
          0.16711753589107328,
          0.1667940071222336,
          0.1661993303713862,
          0.16589026949089816,
          0.1658804853785525
         ],
         "yaxis": "y"
        },
        {
         "hovertemplate": "variable=1<br>index=%{x}<br>value=%{y}<extra></extra>",
         "legendgroup": "1",
         "line": {
          "color": "#EF553B",
          "dash": "solid"
         },
         "marker": {
          "symbol": "circle"
         },
         "mode": "lines",
         "name": "1",
         "orientation": "v",
         "showlegend": true,
         "type": "scatter",
         "x": [
          0,
          1,
          2,
          3,
          4,
          5,
          6,
          7,
          8,
          9,
          10,
          11,
          12,
          13,
          14,
          15,
          16,
          17,
          18,
          19,
          20,
          21,
          22,
          23,
          24,
          25,
          26,
          27,
          28,
          29,
          30,
          31,
          32,
          33,
          34,
          35,
          36,
          37,
          38,
          39,
          40,
          41,
          42,
          43,
          44,
          45,
          46,
          47,
          48,
          49,
          50,
          51,
          52,
          53,
          54,
          55,
          56,
          57,
          58,
          59,
          60,
          61,
          62,
          63,
          64,
          65,
          66,
          67,
          68,
          69,
          70,
          71,
          72,
          73,
          74,
          75,
          76,
          77,
          78,
          79,
          80,
          81,
          82,
          83,
          84,
          85,
          86,
          87,
          88,
          89,
          90,
          91,
          92,
          93,
          94,
          95,
          96,
          97,
          98,
          99,
          100,
          101,
          102,
          103,
          104,
          105,
          106,
          107,
          108,
          109,
          110,
          111,
          112,
          113,
          114,
          115,
          116,
          117,
          118,
          119,
          120,
          121,
          122,
          123,
          124,
          125,
          126,
          127,
          128,
          129,
          130,
          131,
          132,
          133,
          134,
          135,
          136,
          137,
          138,
          139,
          140,
          141,
          142,
          143,
          144,
          145,
          146,
          147,
          148,
          149,
          150,
          151,
          152,
          153,
          154,
          155,
          156,
          157,
          158,
          159,
          160,
          161,
          162,
          163,
          164,
          165,
          166,
          167,
          168,
          169,
          170,
          171,
          172,
          173,
          174,
          175,
          176,
          177,
          178,
          179,
          180,
          181,
          182,
          183,
          184,
          185,
          186,
          187,
          188,
          189,
          190,
          191,
          192,
          193,
          194,
          195,
          196,
          197,
          198,
          199,
          200,
          201,
          202,
          203,
          204,
          205,
          206,
          207,
          208,
          209,
          210,
          211,
          212,
          213,
          214,
          215,
          216,
          217,
          218,
          219,
          220,
          221,
          222,
          223,
          224,
          225,
          226,
          227,
          228,
          229,
          230,
          231,
          232,
          233,
          234,
          235,
          236,
          237,
          238,
          239,
          240,
          241,
          242,
          243,
          244,
          245,
          246,
          247,
          248,
          249
         ],
         "xaxis": "x",
         "y": [
          1.007435622779725,
          0.9619006561806471,
          0.9231590598611022,
          0.8378992006577578,
          0.7896319222850429,
          0.8044595059547113,
          0.7666001406764815,
          0.7522618983454291,
          0.7408390715191726,
          0.7761579716163474,
          0.757899208817065,
          0.7323704135370549,
          0.7077798179281685,
          0.7283250720572556,
          0.7563412897157163,
          0.6721767305722296,
          0.6851318250327987,
          0.6920107649540522,
          0.664147469001187,
          0.6679206623995262,
          0.6559360095500525,
          0.6608408431427112,
          0.6661741701037007,
          0.6395412438183812,
          0.6373850835006776,
          0.6476793429639862,
          0.6667029210646035,
          0.6134364729740595,
          0.6126510121007269,
          0.6199283411877736,
          0.6325973456481953,
          0.6133947866596939,
          0.6115744810669878,
          0.607313581567929,
          0.5799604980505397,
          0.6271065564056062,
          0.5932472588909072,
          0.5845229531450743,
          0.5704171846196213,
          0.6150939488921696,
          0.5684834464252416,
          0.5859534478887863,
          0.5933442137042857,
          0.552492093781911,
          0.5876055647398579,
          0.5791108497606045,
          0.5646105403271454,
          0.5724992257651508,
          0.5711415333824739,
          0.5874131743931096,
          0.5534956768589496,
          0.5588781885710601,
          0.5413628738873734,
          0.537704322026391,
          0.5449214662119167,
          0.6124935188584109,
          0.560372360182314,
          0.5436654984556112,
          0.5637698353863858,
          0.5518337823648019,
          0.5484668715419281,
          0.5253667669640624,
          0.5351698611313378,
          0.536619421371091,
          0.5232656701293514,
          0.4976401645361114,
          0.48691202144635437,
          0.5931710472244888,
          0.511587745440933,
          0.514233452356799,
          0.5062015428941684,
          0.49167373836988276,
          0.48177763160199666,
          0.4999955146451721,
          0.4638231494348799,
          0.4534257189123875,
          0.4653943760234981,
          0.4466240474421123,
          0.44779482645117563,
          0.44595530030215585,
          0.4194262164904877,
          0.4012148766367048,
          0.3812243149224208,
          0.37004981569077017,
          0.36407927759386627,
          0.38935580292828514,
          0.3515821412113551,
          0.33907743202449997,
          0.34081179271501494,
          0.33580122503711984,
          0.3225254947747443,
          0.3289573318637618,
          0.3283737171309681,
          0.3442741538210387,
          0.30317064029799756,
          0.3075020584695752,
          0.29857978626243215,
          0.30987306276184934,
          0.3028454832903804,
          0.2852071927722162,
          0.3047523409088698,
          0.28523447650876355,
          0.2809313135188692,
          0.30668186038311296,
          0.28096447155774695,
          0.2875069340776534,
          0.27544108615010027,
          0.2819613437546753,
          0.27565663575125665,
          0.2797330862352157,
          0.27186290379416184,
          0.28429871882466673,
          0.2754115680884241,
          0.27302802822720457,
          0.2724618620959904,
          0.2759261158074486,
          0.27201993544931546,
          0.2758831642699747,
          0.2692405833556669,
          0.2745080286103824,
          0.2657730621302191,
          0.2691718514798071,
          0.27782927768127236,
          0.26142377710437187,
          0.26800705278588477,
          0.26706712670597926,
          0.2592513227025738,
          0.2695856353551044,
          0.2746310752451209,
          0.28116657474989815,
          0.2655491601122879,
          0.25995526465426066,
          0.2773351309946064,
          0.2623065906928938,
          0.26570205919628853,
          0.27364673297654823,
          0.25906214807116734,
          0.2684742105078255,
          0.25710601518226806,
          0.26251908120544554,
          0.26024366858622633,
          0.2567484540331701,
          0.2527746148934002,
          0.2624872037383988,
          0.27003722974879163,
          0.25754525056997374,
          0.2628835280534446,
          0.2628210224606123,
          0.2675634374045652,
          0.26554950814391404,
          0.2580635374866084,
          0.25785404885378616,
          0.2594663613597622,
          0.27047598621291324,
          0.257831343762287,
          0.25488427205030995,
          0.257621871162693,
          0.24093942022339404,
          0.2454082394880983,
          0.251285041014371,
          0.2557725909926234,
          0.25830336741760845,
          0.24926966932921443,
          0.25797378183622244,
          0.2537565758590037,
          0.2656323386178526,
          0.25332310564105165,
          0.2569828463172007,
          0.26894347813941355,
          0.2535672489316746,
          0.2551920225139536,
          0.25477875482172513,
          0.24857970859605305,
          0.23959544755176185,
          0.24195915224300468,
          0.24061114537157777,
          0.2429143267127524,
          0.23301899485790267,
          0.2331908948179795,
          0.24828307341797404,
          0.2382261544768781,
          0.24042699828270045,
          0.2377888102400324,
          0.2421011353049809,
          0.24494102921060454,
          0.23032934740580643,
          0.24083436461488056,
          0.2528399195350943,
          0.24127200773058216,
          0.23385965228475655,
          0.2379264138283557,
          0.25471249698618487,
          0.24123998457572485,
          0.24763432636778052,
          0.2363347325987403,
          0.22844793393470794,
          0.2350531772976945,
          0.2492777443105888,
          0.25265044291822947,
          0.22829697509510147,
          0.24892046586231925,
          0.23107551561517134,
          0.22888459283661083,
          0.2288645578765511,
          0.2437491835927584,
          0.22783403491844875,
          0.22955296756600954,
          0.2302178356980793,
          0.23640873035672696,
          0.23029567931808348,
          0.22095784531781193,
          0.23066141670273596,
          0.23201860953451467,
          0.23540794607515153,
          0.22329630924869237,
          0.22759570731277917,
          0.22101836496233518,
          0.21794823289588883,
          0.23809324316482977,
          0.2254854335841252,
          0.22078942830671058,
          0.23656064080396938,
          0.22158882931506677,
          0.2353162197099979,
          0.22747475234298004,
          0.22795787744566323,
          0.23260256858680778,
          0.22923324898201247,
          0.2313510676576055,
          0.22142970821961708,
          0.22879465404147606,
          0.22434353587207756,
          0.22286160915510814,
          0.224785728044413,
          0.2503000186828653,
          0.22530802523605395,
          0.22239264963332944,
          0.2208028144463107,
          0.22628588759251492,
          0.2358564985159113,
          0.21826531884487546,
          0.22691086451638187,
          0.22894753149773123,
          0.21807732957648937,
          0.22905202452817358,
          0.22107563966510047,
          0.21749841602841663,
          0.221749077149578,
          0.221786011451388,
          0.23907643336105053
         ],
         "yaxis": "y"
        }
       ],
       "layout": {
        "legend": {
         "title": {
          "text": "variable"
         },
         "tracegroupgap": 0
        },
        "margin": {
         "t": 60
        },
        "template": {
         "data": {
          "bar": [
           {
            "error_x": {
             "color": "#2a3f5f"
            },
            "error_y": {
             "color": "#2a3f5f"
            },
            "marker": {
             "line": {
              "color": "#E5ECF6",
              "width": 0.5
             },
             "pattern": {
              "fillmode": "overlay",
              "size": 10,
              "solidity": 0.2
             }
            },
            "type": "bar"
           }
          ],
          "barpolar": [
           {
            "marker": {
             "line": {
              "color": "#E5ECF6",
              "width": 0.5
             },
             "pattern": {
              "fillmode": "overlay",
              "size": 10,
              "solidity": 0.2
             }
            },
            "type": "barpolar"
           }
          ],
          "carpet": [
           {
            "aaxis": {
             "endlinecolor": "#2a3f5f",
             "gridcolor": "white",
             "linecolor": "white",
             "minorgridcolor": "white",
             "startlinecolor": "#2a3f5f"
            },
            "baxis": {
             "endlinecolor": "#2a3f5f",
             "gridcolor": "white",
             "linecolor": "white",
             "minorgridcolor": "white",
             "startlinecolor": "#2a3f5f"
            },
            "type": "carpet"
           }
          ],
          "choropleth": [
           {
            "colorbar": {
             "outlinewidth": 0,
             "ticks": ""
            },
            "type": "choropleth"
           }
          ],
          "contour": [
           {
            "colorbar": {
             "outlinewidth": 0,
             "ticks": ""
            },
            "colorscale": [
             [
              0,
              "#0d0887"
             ],
             [
              0.1111111111111111,
              "#46039f"
             ],
             [
              0.2222222222222222,
              "#7201a8"
             ],
             [
              0.3333333333333333,
              "#9c179e"
             ],
             [
              0.4444444444444444,
              "#bd3786"
             ],
             [
              0.5555555555555556,
              "#d8576b"
             ],
             [
              0.6666666666666666,
              "#ed7953"
             ],
             [
              0.7777777777777778,
              "#fb9f3a"
             ],
             [
              0.8888888888888888,
              "#fdca26"
             ],
             [
              1,
              "#f0f921"
             ]
            ],
            "type": "contour"
           }
          ],
          "contourcarpet": [
           {
            "colorbar": {
             "outlinewidth": 0,
             "ticks": ""
            },
            "type": "contourcarpet"
           }
          ],
          "heatmap": [
           {
            "colorbar": {
             "outlinewidth": 0,
             "ticks": ""
            },
            "colorscale": [
             [
              0,
              "#0d0887"
             ],
             [
              0.1111111111111111,
              "#46039f"
             ],
             [
              0.2222222222222222,
              "#7201a8"
             ],
             [
              0.3333333333333333,
              "#9c179e"
             ],
             [
              0.4444444444444444,
              "#bd3786"
             ],
             [
              0.5555555555555556,
              "#d8576b"
             ],
             [
              0.6666666666666666,
              "#ed7953"
             ],
             [
              0.7777777777777778,
              "#fb9f3a"
             ],
             [
              0.8888888888888888,
              "#fdca26"
             ],
             [
              1,
              "#f0f921"
             ]
            ],
            "type": "heatmap"
           }
          ],
          "heatmapgl": [
           {
            "colorbar": {
             "outlinewidth": 0,
             "ticks": ""
            },
            "colorscale": [
             [
              0,
              "#0d0887"
             ],
             [
              0.1111111111111111,
              "#46039f"
             ],
             [
              0.2222222222222222,
              "#7201a8"
             ],
             [
              0.3333333333333333,
              "#9c179e"
             ],
             [
              0.4444444444444444,
              "#bd3786"
             ],
             [
              0.5555555555555556,
              "#d8576b"
             ],
             [
              0.6666666666666666,
              "#ed7953"
             ],
             [
              0.7777777777777778,
              "#fb9f3a"
             ],
             [
              0.8888888888888888,
              "#fdca26"
             ],
             [
              1,
              "#f0f921"
             ]
            ],
            "type": "heatmapgl"
           }
          ],
          "histogram": [
           {
            "marker": {
             "pattern": {
              "fillmode": "overlay",
              "size": 10,
              "solidity": 0.2
             }
            },
            "type": "histogram"
           }
          ],
          "histogram2d": [
           {
            "colorbar": {
             "outlinewidth": 0,
             "ticks": ""
            },
            "colorscale": [
             [
              0,
              "#0d0887"
             ],
             [
              0.1111111111111111,
              "#46039f"
             ],
             [
              0.2222222222222222,
              "#7201a8"
             ],
             [
              0.3333333333333333,
              "#9c179e"
             ],
             [
              0.4444444444444444,
              "#bd3786"
             ],
             [
              0.5555555555555556,
              "#d8576b"
             ],
             [
              0.6666666666666666,
              "#ed7953"
             ],
             [
              0.7777777777777778,
              "#fb9f3a"
             ],
             [
              0.8888888888888888,
              "#fdca26"
             ],
             [
              1,
              "#f0f921"
             ]
            ],
            "type": "histogram2d"
           }
          ],
          "histogram2dcontour": [
           {
            "colorbar": {
             "outlinewidth": 0,
             "ticks": ""
            },
            "colorscale": [
             [
              0,
              "#0d0887"
             ],
             [
              0.1111111111111111,
              "#46039f"
             ],
             [
              0.2222222222222222,
              "#7201a8"
             ],
             [
              0.3333333333333333,
              "#9c179e"
             ],
             [
              0.4444444444444444,
              "#bd3786"
             ],
             [
              0.5555555555555556,
              "#d8576b"
             ],
             [
              0.6666666666666666,
              "#ed7953"
             ],
             [
              0.7777777777777778,
              "#fb9f3a"
             ],
             [
              0.8888888888888888,
              "#fdca26"
             ],
             [
              1,
              "#f0f921"
             ]
            ],
            "type": "histogram2dcontour"
           }
          ],
          "mesh3d": [
           {
            "colorbar": {
             "outlinewidth": 0,
             "ticks": ""
            },
            "type": "mesh3d"
           }
          ],
          "parcoords": [
           {
            "line": {
             "colorbar": {
              "outlinewidth": 0,
              "ticks": ""
             }
            },
            "type": "parcoords"
           }
          ],
          "pie": [
           {
            "automargin": true,
            "type": "pie"
           }
          ],
          "scatter": [
           {
            "fillpattern": {
             "fillmode": "overlay",
             "size": 10,
             "solidity": 0.2
            },
            "type": "scatter"
           }
          ],
          "scatter3d": [
           {
            "line": {
             "colorbar": {
              "outlinewidth": 0,
              "ticks": ""
             }
            },
            "marker": {
             "colorbar": {
              "outlinewidth": 0,
              "ticks": ""
             }
            },
            "type": "scatter3d"
           }
          ],
          "scattercarpet": [
           {
            "marker": {
             "colorbar": {
              "outlinewidth": 0,
              "ticks": ""
             }
            },
            "type": "scattercarpet"
           }
          ],
          "scattergeo": [
           {
            "marker": {
             "colorbar": {
              "outlinewidth": 0,
              "ticks": ""
             }
            },
            "type": "scattergeo"
           }
          ],
          "scattergl": [
           {
            "marker": {
             "colorbar": {
              "outlinewidth": 0,
              "ticks": ""
             }
            },
            "type": "scattergl"
           }
          ],
          "scattermapbox": [
           {
            "marker": {
             "colorbar": {
              "outlinewidth": 0,
              "ticks": ""
             }
            },
            "type": "scattermapbox"
           }
          ],
          "scatterpolar": [
           {
            "marker": {
             "colorbar": {
              "outlinewidth": 0,
              "ticks": ""
             }
            },
            "type": "scatterpolar"
           }
          ],
          "scatterpolargl": [
           {
            "marker": {
             "colorbar": {
              "outlinewidth": 0,
              "ticks": ""
             }
            },
            "type": "scatterpolargl"
           }
          ],
          "scatterternary": [
           {
            "marker": {
             "colorbar": {
              "outlinewidth": 0,
              "ticks": ""
             }
            },
            "type": "scatterternary"
           }
          ],
          "surface": [
           {
            "colorbar": {
             "outlinewidth": 0,
             "ticks": ""
            },
            "colorscale": [
             [
              0,
              "#0d0887"
             ],
             [
              0.1111111111111111,
              "#46039f"
             ],
             [
              0.2222222222222222,
              "#7201a8"
             ],
             [
              0.3333333333333333,
              "#9c179e"
             ],
             [
              0.4444444444444444,
              "#bd3786"
             ],
             [
              0.5555555555555556,
              "#d8576b"
             ],
             [
              0.6666666666666666,
              "#ed7953"
             ],
             [
              0.7777777777777778,
              "#fb9f3a"
             ],
             [
              0.8888888888888888,
              "#fdca26"
             ],
             [
              1,
              "#f0f921"
             ]
            ],
            "type": "surface"
           }
          ],
          "table": [
           {
            "cells": {
             "fill": {
              "color": "#EBF0F8"
             },
             "line": {
              "color": "white"
             }
            },
            "header": {
             "fill": {
              "color": "#C8D4E3"
             },
             "line": {
              "color": "white"
             }
            },
            "type": "table"
           }
          ]
         },
         "layout": {
          "annotationdefaults": {
           "arrowcolor": "#2a3f5f",
           "arrowhead": 0,
           "arrowwidth": 1
          },
          "autotypenumbers": "strict",
          "coloraxis": {
           "colorbar": {
            "outlinewidth": 0,
            "ticks": ""
           }
          },
          "colorscale": {
           "diverging": [
            [
             0,
             "#8e0152"
            ],
            [
             0.1,
             "#c51b7d"
            ],
            [
             0.2,
             "#de77ae"
            ],
            [
             0.3,
             "#f1b6da"
            ],
            [
             0.4,
             "#fde0ef"
            ],
            [
             0.5,
             "#f7f7f7"
            ],
            [
             0.6,
             "#e6f5d0"
            ],
            [
             0.7,
             "#b8e186"
            ],
            [
             0.8,
             "#7fbc41"
            ],
            [
             0.9,
             "#4d9221"
            ],
            [
             1,
             "#276419"
            ]
           ],
           "sequential": [
            [
             0,
             "#0d0887"
            ],
            [
             0.1111111111111111,
             "#46039f"
            ],
            [
             0.2222222222222222,
             "#7201a8"
            ],
            [
             0.3333333333333333,
             "#9c179e"
            ],
            [
             0.4444444444444444,
             "#bd3786"
            ],
            [
             0.5555555555555556,
             "#d8576b"
            ],
            [
             0.6666666666666666,
             "#ed7953"
            ],
            [
             0.7777777777777778,
             "#fb9f3a"
            ],
            [
             0.8888888888888888,
             "#fdca26"
            ],
            [
             1,
             "#f0f921"
            ]
           ],
           "sequentialminus": [
            [
             0,
             "#0d0887"
            ],
            [
             0.1111111111111111,
             "#46039f"
            ],
            [
             0.2222222222222222,
             "#7201a8"
            ],
            [
             0.3333333333333333,
             "#9c179e"
            ],
            [
             0.4444444444444444,
             "#bd3786"
            ],
            [
             0.5555555555555556,
             "#d8576b"
            ],
            [
             0.6666666666666666,
             "#ed7953"
            ],
            [
             0.7777777777777778,
             "#fb9f3a"
            ],
            [
             0.8888888888888888,
             "#fdca26"
            ],
            [
             1,
             "#f0f921"
            ]
           ]
          },
          "colorway": [
           "#636efa",
           "#EF553B",
           "#00cc96",
           "#ab63fa",
           "#FFA15A",
           "#19d3f3",
           "#FF6692",
           "#B6E880",
           "#FF97FF",
           "#FECB52"
          ],
          "font": {
           "color": "#2a3f5f"
          },
          "geo": {
           "bgcolor": "white",
           "lakecolor": "white",
           "landcolor": "#E5ECF6",
           "showlakes": true,
           "showland": true,
           "subunitcolor": "white"
          },
          "hoverlabel": {
           "align": "left"
          },
          "hovermode": "closest",
          "mapbox": {
           "style": "light"
          },
          "paper_bgcolor": "white",
          "plot_bgcolor": "#E5ECF6",
          "polar": {
           "angularaxis": {
            "gridcolor": "white",
            "linecolor": "white",
            "ticks": ""
           },
           "bgcolor": "#E5ECF6",
           "radialaxis": {
            "gridcolor": "white",
            "linecolor": "white",
            "ticks": ""
           }
          },
          "scene": {
           "xaxis": {
            "backgroundcolor": "#E5ECF6",
            "gridcolor": "white",
            "gridwidth": 2,
            "linecolor": "white",
            "showbackground": true,
            "ticks": "",
            "zerolinecolor": "white"
           },
           "yaxis": {
            "backgroundcolor": "#E5ECF6",
            "gridcolor": "white",
            "gridwidth": 2,
            "linecolor": "white",
            "showbackground": true,
            "ticks": "",
            "zerolinecolor": "white"
           },
           "zaxis": {
            "backgroundcolor": "#E5ECF6",
            "gridcolor": "white",
            "gridwidth": 2,
            "linecolor": "white",
            "showbackground": true,
            "ticks": "",
            "zerolinecolor": "white"
           }
          },
          "shapedefaults": {
           "line": {
            "color": "#2a3f5f"
           }
          },
          "ternary": {
           "aaxis": {
            "gridcolor": "white",
            "linecolor": "white",
            "ticks": ""
           },
           "baxis": {
            "gridcolor": "white",
            "linecolor": "white",
            "ticks": ""
           },
           "bgcolor": "#E5ECF6",
           "caxis": {
            "gridcolor": "white",
            "linecolor": "white",
            "ticks": ""
           }
          },
          "title": {
           "x": 0.05
          },
          "xaxis": {
           "automargin": true,
           "gridcolor": "white",
           "linecolor": "white",
           "ticks": "",
           "title": {
            "standoff": 15
           },
           "zerolinecolor": "white",
           "zerolinewidth": 2
          },
          "yaxis": {
           "automargin": true,
           "gridcolor": "white",
           "linecolor": "white",
           "ticks": "",
           "title": {
            "standoff": 15
           },
           "zerolinecolor": "white",
           "zerolinewidth": 2
          }
         }
        },
        "xaxis": {
         "anchor": "y",
         "domain": [
          0,
          1
         ],
         "title": {
          "text": "index"
         }
        },
        "yaxis": {
         "anchor": "x",
         "domain": [
          0,
          1
         ],
         "title": {
          "text": "value"
         }
        }
       }
      }
     },
     "metadata": {},
     "output_type": "display_data"
    }
   ],
   "source": [
    "px.line(pd.DataFrame(np.column_stack((train_loss, test_loss))))"
   ]
  },
  {
   "cell_type": "code",
   "execution_count": 25,
   "metadata": {},
   "outputs": [],
   "source": [
    "torch.save(model, \"temp_model.pt\")\n",
    "# model = torch.load(\"temp_model.pt\")"
   ]
  },
  {
   "cell_type": "markdown",
   "metadata": {},
   "source": [
    "To test NSE, I will need to perform infererence on all training boreholes, for the training and testing periods."
   ]
  }
 ],
 "metadata": {
  "kernelspec": {
   "display_name": "base",
   "language": "python",
   "name": "python3"
  },
  "language_info": {
   "codemirror_mode": {
    "name": "ipython",
    "version": 3
   },
   "file_extension": ".py",
   "mimetype": "text/x-python",
   "name": "python",
   "nbconvert_exporter": "python",
   "pygments_lexer": "ipython3",
   "version": "3.11.5"
  }
 },
 "nbformat": 4,
 "nbformat_minor": 2
}
